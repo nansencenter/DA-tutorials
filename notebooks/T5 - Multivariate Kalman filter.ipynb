{
 "cells": [
  {
   "cell_type": "markdown",
   "id": "6de1e4a8",
   "metadata": {},
   "source": [
    "# T5 - The Kalman filter (KF) -- multivariate\n",
    "Dealing with vectors and matrices is a lot like plain numbers. But some things get more complicated.\n",
    "$\n",
    "% Loading TeX (MathJax)... Please wait\n",
    "%\n",
    "\\newcommand{\\Reals}{\\mathbb{R}}\n",
    "\\newcommand{\\Expect}[0]{\\mathbb{E}}\n",
    "\\newcommand{\\NormDist}{\\mathcal{N}}\n",
    "%\n",
    "\\newcommand{\\DynMod}[0]{\\mathscr{M}}\n",
    "\\newcommand{\\ObsMod}[0]{\\mathscr{H}}\n",
    "%\n",
    "\\newcommand{\\mat}[1]{{\\mathbf{{#1}}}}\n",
    "%\\newcommand{\\mat}[1]{{\\pmb{\\mathsf{#1}}}}\n",
    "\\newcommand{\\bvec}[1]{{\\mathbf{#1}}}\n",
    "%\n",
    "\\newcommand{\\trsign}{{\\mathsf{T}}}\n",
    "\\newcommand{\\tr}{^{\\trsign}}\n",
    "\\newcommand{\\ceq}[0]{\\mathrel{≔}}\n",
    "\\newcommand{\\xDim}[0]{D}\n",
    "\\newcommand{\\supa}[0]{^\\text{a}}\n",
    "\\newcommand{\\supf}[0]{^\\text{f}}\n",
    "%\n",
    "\\newcommand{\\I}[0]{\\mat{I}}\n",
    "\\newcommand{\\K}[0]{\\mat{K}}\n",
    "\\newcommand{\\bP}[0]{\\mat{P}}\n",
    "\\newcommand{\\bH}[0]{\\mat{H}}\n",
    "\\newcommand{\\bF}[0]{\\mat{F}}\n",
    "\\newcommand{\\R}[0]{\\mat{R}}\n",
    "\\newcommand{\\Q}[0]{\\mat{Q}}\n",
    "\\newcommand{\\B}[0]{\\mat{B}}\n",
    "\\newcommand{\\C}[0]{\\mat{C}}\n",
    "\\newcommand{\\Ri}[0]{\\R^{-1}}\n",
    "\\newcommand{\\X}[0]{\\mat{X}}\n",
    "\\newcommand{\\A}[0]{\\mat{A}}\n",
    "\\newcommand{\\Y}[0]{\\mat{Y}}\n",
    "\\newcommand{\\E}[0]{\\mat{E}}\n",
    "\\newcommand{\\U}[0]{\\mat{U}}\n",
    "\\newcommand{\\V}[0]{\\mat{V}}\n",
    "%\n",
    "\\newcommand{\\x}[0]{\\bvec{x}}\n",
    "\\newcommand{\\y}[0]{\\bvec{y}}\n",
    "\\newcommand{\\z}[0]{\\bvec{z}}\n",
    "\\newcommand{\\q}[0]{\\bvec{q}}\n",
    "\\newcommand{\\br}[0]{\\bvec{r}}\n",
    "\\newcommand{\\bb}[0]{\\bvec{b}}\n",
    "%\n",
    "\\newcommand{\\bx}[0]{\\bvec{\\bar{x}}}\n",
    "\\newcommand{\\by}[0]{\\bvec{\\bar{y}}}\n",
    "\\newcommand{\\barB}[0]{\\mat{\\bar{B}}}\n",
    "\\newcommand{\\barP}[0]{\\mat{\\bar{P}}}\n",
    "\\newcommand{\\barC}[0]{\\mat{\\bar{C}}}\n",
    "\\newcommand{\\barK}[0]{\\mat{\\bar{K}}}\n",
    "%\n",
    "\\newcommand{\\D}[0]{\\mat{D}}\n",
    "\\newcommand{\\Dobs}[0]{\\mat{D}_{\\text{obs}}}\n",
    "\\newcommand{\\Dmod}[0]{\\mat{D}_{\\text{obs}}}\n",
    "%\n",
    "\\newcommand{\\ones}[0]{\\bvec{1}}\n",
    "\\newcommand{\\AN}[0]{\\big( \\I_N - \\ones \\ones\\tr / N \\big)}\n",
    "%\n",
    "% END OF MACRO DEF\n",
    "$"
   ]
  },
  {
   "cell_type": "code",
   "execution_count": null,
   "id": "e6ba6cf6",
   "metadata": {},
   "outputs": [],
   "source": [
    "remote = \"https://raw.githubusercontent.com/nansencenter/DA-tutorials\"\n",
    "!wget -qO- {remote}/master/colab_bootstrap.sh | bash -s\n",
    "import resources.workspace as ws"
   ]
  },
  {
   "cell_type": "code",
   "execution_count": null,
   "id": "88ca4eab",
   "metadata": {
    "lines_to_next_cell": 2
   },
   "outputs": [],
   "source": [
    "%matplotlib inline\n",
    "import numpy as np\n",
    "import numpy.random as rnd\n",
    "from scipy.linalg import inv\n",
    "import matplotlib.pyplot as plt\n",
    "plt.ion();"
   ]
  },
  {
   "cell_type": "markdown",
   "id": "928ce4c1",
   "metadata": {},
   "source": [
    "## Another time series problem, now multivariate\n",
    "\n",
    "Recall the AR(1) process from the previous tutorial: $x_{k+1} = \\DynMod x_k + q_k$.\n",
    "- It could result from discretizing [exponential decay](https://en.wikipedia.org/wiki/Exponential_decay):\n",
    "  $\\frac{d x}{d t} = - \\beta x \\,,$ for some $\\beta \\geq 0$, and\n",
    "  adding some white noise, $\\frac{d q}{d t}$.\n",
    "- Discretisation\n",
    "  - using explicit-Euler produces $\\DynMod = (1 - \\beta\\, \\Delta t)$,\n",
    "  - using implicit-Euler produces $\\DynMod = 1/(1 + \\beta\\, \\Delta t)$.\n",
    "  - such that $x_{k+1}$ equals the analytic solution requires $\\DynMod = e^{- \\beta\\, \\Delta t}$.\n",
    "  - *PS: note that the 1-st order Taylor expansion of each scheme is the same.*\n",
    "- Recall that $\\{x_k\\}$ became a (noisy) constant (horizontal) line when $\\DynMod = 1$,\n",
    "  which makes sense since then $\\beta = 0$.\n",
    "- Similarly, a straight (sloping) line would result from\n",
    "  $\\frac{d^2 x}{d t^2} = 0 \\, .$\n",
    "\n",
    "To make matters more interesting we're now going to consider the $\\xDim$-th order model:\n",
    "  $\\displaystyle \\frac{d^{\\xDim} x}{d t^\\xDim} = 0 \\, .$\n",
    "- This can be rewritten as a 1-st order *vector* (i.e. coupled system of) ODE:\n",
    "  $\\frac{d x_i}{d t} = x_{i+1} \\, ,$ and $x_{{\\xDim}+1} = 0$   \n",
    "  where the subscript $i$ is now instead the *index* of the state vector element.\n",
    "- Again we include noise, $\\frac{d q_i}{d t}$,\n",
    "  and damping (exponential decay), $- \\beta x_i$, to each component.\n",
    "- In total, $ \\frac{d x_i}{d t} = x_{i+1} - \\beta x_i + \\frac{d q_i}{d t} \\, .$\n",
    "- Discretizing with time step $\\Delta t=1$ produces\n",
    "  $ x_{k+1, i} = x_{k, i+1} + 0.9 x_{k, i} + q_{k, i}\\, ,$  \n",
    "  i.e. $\\beta = 0.1$ or $\\beta = -\\log(0.9)$ depending on which scheme was used.\n",
    "\n",
    "Thus, $\\x_{k+1} = \\DynMod \\x_k + \\q_k$, with $\\DynMod$ the matrix specified below."
   ]
  },
  {
   "cell_type": "code",
   "execution_count": null,
   "id": "72c8a3f8",
   "metadata": {},
   "outputs": [],
   "source": [
    "xDim = 4 # state (x) length, also model order\n",
    "M = 0.9*np.eye(xDim) + np.diag(np.ones(xDim-1), 1)\n",
    "print(\"M =\", M, sep=\"\\n\")\n",
    "\n",
    "nTime = 100\n",
    "Q = 0.01**2 * np.diag(1+np.arange(xDim))"
   ]
  },
  {
   "cell_type": "markdown",
   "id": "ee55cb8f",
   "metadata": {},
   "source": [
    "#### Observing system\n",
    "Note that will generate a $\\xDim$-dimensional time series.\n",
    "But we will only observe the 1st (0th in Python) element/component of the state vector.\n",
    "We say that the other components are **hidden**."
   ]
  },
  {
   "cell_type": "code",
   "execution_count": null,
   "id": "7daf7b88",
   "metadata": {},
   "outputs": [],
   "source": [
    "H = np.zeros((1, xDim))\n",
    "H[0, 0] = 1.0\n",
    "print(\"H =\", H)\n",
    "\n",
    "R = 30**2 * np.identity(1)"
   ]
  },
  {
   "cell_type": "markdown",
   "id": "e504e8c1",
   "metadata": {},
   "source": [
    "#### Simulation\n",
    "The following simulates a synthetic truth (x) time series and observations (y)."
   ]
  },
  {
   "cell_type": "code",
   "execution_count": null,
   "id": "9ad83676",
   "metadata": {
    "lines_to_next_cell": 0
   },
   "outputs": [],
   "source": [
    "rnd.seed(4)\n",
    "\n",
    "# Initial condition\n",
    "xa = np.zeros(xDim)\n",
    "Pa = 0.1**2 * np.diag(np.arange(xDim))\n",
    "x = xa + np.sqrt(Pa)@rnd.randn(xDim)\n",
    "\n",
    "truths = np.zeros((nTime, xDim))\n",
    "obsrvs = np.zeros((nTime, len(H)))\n",
    "for k in range(nTime):\n",
    "    x = M @ x + np.sqrt(Q)@rnd.randn(xDim)\n",
    "    y = H @ x + np.sqrt(R)@rnd.randn(1)\n",
    "    truths[k] = x\n",
    "    obsrvs[k] = y\n",
    "\n",
    "for i, x in enumerate(truths.T):\n",
    "    magnification = (i+1)**4  # for illustration purposes\n",
    "    plt.plot(magnification*x, label=fr\"${magnification}\\,x_{i}$\")\n",
    "plt.legend();"
   ]
  },
  {
   "cell_type": "markdown",
   "id": "ac5d7f4b",
   "metadata": {},
   "source": [
    "## The KF forecast step\n",
    "\n",
    "The forecast step (and its derivation) remains essentially unchanged from the [univariate case](T4%20-%20Time%20series%20filtering.ipynb#The-(univariate)-Kalman-filter-(KF)).\n",
    "The only difference is that $\\DynMod$ is now a *matrix*, as well as the use of the transpose ${}^T$ in the covariance equation:\n",
    "$\\begin{align}\n",
    "\\x\\supf_k\n",
    "&= \\DynMod_{k-1} \\x\\supa_{k-1} \\, , \\tag{1a} \\\\\\\n",
    "\\bP\\supf_k\n",
    "&= \\DynMod_{k-1} \\bP\\supa_{k-1} \\DynMod_{k-1}^T + \\Q_{k-1} \\, . \\tag{1b}\n",
    "\\end{align}$\n",
    "\n",
    "## The KF analysis step\n",
    "\n",
    "It may be shown that the prior $p(\\x) = \\NormDist(\\x \\mid \\x\\supf,\\bP\\supf)$\n",
    "and likelihood $p(\\y|\\x) = \\NormDist(\\y \\mid \\ObsMod \\x,\\R)$,\n",
    "yield the posterior:\n",
    "\\begin{align}\n",
    "p(\\x|\\y)\n",
    "&= \\NormDist(\\x \\mid \\x\\supa, \\bP\\supa) \\tag{4}\n",
    "\\, ,\n",
    "\\end{align}\n",
    "where the posterior/analysis mean (vector) and covariance (matrix) are given by:\n",
    "\\begin{align}\n",
    "\t\t\t\\bP\\supa &= \\big(\\ObsMod\\tr \\Ri \\ObsMod + (\\bP\\supf)^{-1}\\big)^{-1} \\, , \\tag{5} \\\\\n",
    "\t\t\t\\x\\supa &= \\bP\\supa\\left[\\ObsMod\\tr \\Ri \\y + (\\bP\\supf)^{-1} \\x\\supf\\right] \\tag{6} \\, ,\n",
    "\\end{align}\n",
    "*PS: all of the above could be subscripted by a single time index ($k$), but that seems unnecessary.*\n",
    "\n",
    "**Exc (optional) -- The 'precision' form of the KF:** Prove eqns (4-6).  \n",
    "*Hint: similar to the [univariate case](T3%20-%20Bayesian%20inference.ipynb#Exc----GG-Bayes), the main part lies in \"completing the square\" in $\\x$.*"
   ]
  },
  {
   "cell_type": "code",
   "execution_count": null,
   "id": "ad586834",
   "metadata": {},
   "outputs": [],
   "source": [
    "# ws.show_answer('KF precision')"
   ]
  },
  {
   "cell_type": "markdown",
   "id": "07755d38",
   "metadata": {},
   "source": [
    "## Implementation & illustration"
   ]
  },
  {
   "cell_type": "code",
   "execution_count": null,
   "id": "23cbbb7f",
   "metadata": {},
   "outputs": [],
   "source": [
    "estims = np.zeros((nTime, 2, xDim))\n",
    "covars = np.zeros((nTime, 2, xDim, xDim))\n",
    "for k in range(nTime):\n",
    "    # Forecast step\n",
    "    xf = M@xa\n",
    "    Pf = M@Pa@M.T + Q\n",
    "    # Analysis update step\n",
    "    y = obsrvs[k]\n",
    "    Pa = inv( inv(Pf) + H.T@inv(R)@H )\n",
    "    xa = Pa @ ( inv(Pf)@xf + H.T@inv(R)@y )\n",
    "    # Assign\n",
    "    estims[k] = xf, xa\n",
    "    covars[k] = Pf, Pa"
   ]
  },
  {
   "cell_type": "markdown",
   "id": "649aaeec",
   "metadata": {},
   "source": [
    "Using `inv` is very bad practice, since it is not numerically stable.\n",
    "You generally want to use `scipy.linalg.solve` instead, or a more fine-grained matrix decomposition routine.\n",
    "But that is not possible here, since we have no \"right hand side\" to solve for in the formula for `Pa`.\n",
    "We'll address this point later.\n",
    "\n",
    "<mark><font size=\"-1\">\n",
    "*Caution!: Because of our haphazard use of global variables, re-running the KF (without re-running the truth-generating cell) will take as initial condition the endpoint of the previous run.*\n",
    "</font></mark>\n",
    "\n",
    "Use the following to plot the result."
   ]
  },
  {
   "cell_type": "code",
   "execution_count": null,
   "id": "29108e20",
   "metadata": {},
   "outputs": [],
   "source": [
    "fig, axs = plt.subplots(figsize=(10, 6), nrows=xDim, sharex=True)\n",
    "for i, (ax, truth, estim) in enumerate(zip(axs, truths.T, estims.T)):\n",
    "    kk = 1 + np.arange(nTime)\n",
    "    kk2 = kk.repeat(2)\n",
    "    ax.plot(kk, truth, c='k')\n",
    "    ax.plot(kk2, estim.T.flatten())\n",
    "    ax.fill_between(kk2, *ws.cInterval(estim.T, covars[..., i, i]), alpha=.2)\n",
    "    if i == 0 and H[0, 0] == 1 and np.sum(np.abs(H)) == 1:\n",
    "        ax.plot(kk, obsrvs, '.')\n",
    "    ax.set_ylabel(f\"$x_{i}$\")\n",
    "    ax.set_xlim([0, nTime])"
   ]
  },
  {
   "cell_type": "markdown",
   "id": "89176b90",
   "metadata": {},
   "source": [
    "It is also about time that we have a look at how the state uncertainty/error covariance matrix looks. After all, it is the covariance that is used by the KF to update the hidden state estimates. But since the scales are so different between the components, it is more suitable to consider the correlation matrix. Run the cell below, and note that\n",
    "- It converges in time to a fixed value, as we might expect from T4.\n",
    "- There are no negative correlations in this case, which is perhaps a bit boring."
   ]
  },
  {
   "cell_type": "code",
   "execution_count": null,
   "id": "9f762bda",
   "metadata": {},
   "outputs": [],
   "source": [
    "@ws.interact(k=(1, nTime))\n",
    "def plot_correlation_matrix(k=1, analysis=True):\n",
    "    Pf, Pa = covars[k-1]\n",
    "    covmat = Pa if analysis else Pf\n",
    "    stds = np.sqrt(np.diag(covmat))\n",
    "    corrmat = covmat / np.outer(stds, stds)\n",
    "    plt.matshow(corrmat, cmap='coolwarm', vmin=-1, vmax=+1)\n",
    "    plt.grid(False)\n",
    "    plt.colorbar(shrink=0.5)\n",
    "    plt.show()"
   ]
  },
  {
   "cell_type": "markdown",
   "id": "358a9766",
   "metadata": {},
   "source": [
    "## Woodbury and the Kalman gain\n",
    "The KF formulae, as specified above, can be pretty expensive...\n",
    "\n",
    "#### Exc (optional) -- flops and MBs\n",
    "Suppose the length of $\\x$ is $\\xDim$ and denote its covariance matrix by $\\bP$.\n",
    " * (a) What's the size of $\\bP$?\n",
    " * (b) How many \"flops\" (approximately, i.e. up to leading order) are required  \n",
    "       to compute the \"precision form\" of the KF update equation, eqn (5) ?  \n",
    "       *Hint: Assume the computationally demanding part is the [Cholesky decomposition](https://en.wikipedia.org/wiki/Cholesky_decomposition#Computation).*\n",
    " * (c) How much memory (bytes) is required to hold its covariance matrix $\\bP$ ?\n",
    " * (d) How many megabytes (MB) is that if $\\xDim$ is a million,\n",
    "       as in our [$1^\\circ$ (110km) resolution Earth atmosphere model](T3%20-%20Bayesian%20inference.ipynb#Exc-(optional)----Curse-of-dimensionality,-part-1).\n",
    " * (e) How many times more MB or flops are needed if you double the resolution (in all 3 dimensions) ?"
   ]
  },
  {
   "cell_type": "code",
   "execution_count": null,
   "id": "882cf716",
   "metadata": {},
   "outputs": [],
   "source": [
    "# ws.show_answer('nD-covars are big')"
   ]
  },
  {
   "cell_type": "markdown",
   "id": "eb4e4c0c",
   "metadata": {},
   "source": [
    "This is one of the principal reasons why basic extended KF is infeasible for DA. In the following we derive the \"gain\" form of the KF analysis update, which should help at least a little bit.\n",
    "\n",
    "#### Exc -- The \"Woodbury\" matrix inversion identity\n",
    "The following is known as the Sherman-Morrison-Woodbury lemma/identity,\n",
    "$$\\begin{align}\n",
    "    \\bP = \\left( \\B^{-1} + \\V\\tr \\R^{-1} \\U \\right)^{-1}\n",
    "    =\n",
    "    \\B - \\B \\V\\tr \\left( \\R + \\U \\B \\V\\tr \\right)^{-1} \\U \\B \\, ,\n",
    "    \\tag{W}\n",
    "\\end{align}$$\n",
    "which holds for any (suitably shaped matrices)\n",
    "$\\B$, $\\R$, $\\V,\\U$ *such that the above exists*.\n",
    "\n",
    "Prove the identity. *Hint: don't derive it, just prove it!*"
   ]
  },
  {
   "cell_type": "code",
   "execution_count": null,
   "id": "1927009f",
   "metadata": {},
   "outputs": [],
   "source": [
    "# ws.show_answer('Woodbury')"
   ]
  },
  {
   "cell_type": "markdown",
   "id": "48ad5f28",
   "metadata": {},
   "source": [
    "#### Exc (optional) -- Matrix shape compatibility\n",
    "- Show that $\\B$ and $\\R$ must be square.\n",
    "- Show that $\\U$ and $\\V$ are not necessarily square, but must have the same dimensions.\n",
    "- Show that $\\B$ and $\\R$ are not necessarily of equal size.\n"
   ]
  },
  {
   "cell_type": "markdown",
   "id": "2f68f996",
   "metadata": {},
   "source": [
    "The above exercise makes it clear that the Woodbury identity may be used to compute $\\bP$ by inverting matrices of the size of $\\R$ rather than the size of $\\B$.\n",
    "Of course, if $\\R$ is bigger than $\\B$, then the identity is useful the other way around."
   ]
  },
  {
   "cell_type": "markdown",
   "id": "4ac7959e",
   "metadata": {},
   "source": [
    "#### Exc (optional) -- Corollary 1\n",
    "Prove that, for any symmetric, positive-definite\n",
    "([SPD](https://en.wikipedia.org/wiki/Definiteness_of_a_matrix#Properties))\n",
    "matrices $\\R$ and $\\B$, and any matrix $\\ObsMod$,\n",
    "$$\\begin{align}\n",
    " \t\\left(\\ObsMod\\tr \\R^{-1} \\ObsMod + \\B^{-1}\\right)^{-1}\n",
    "    &=\n",
    "    \\B - \\B \\ObsMod\\tr \\left( \\R + \\ObsMod \\B \\ObsMod\\tr \\right)^{-1} \\ObsMod \\B \\tag{C1}\n",
    "    \\, .\n",
    "\\end{align}$$"
   ]
  },
  {
   "cell_type": "code",
   "execution_count": null,
   "id": "eccaad10",
   "metadata": {},
   "outputs": [],
   "source": [
    "# ws.show_answer('inv(SPD + SPD)')"
   ]
  },
  {
   "cell_type": "markdown",
   "id": "40dc4629",
   "metadata": {},
   "source": [
    "#### Exc (optional) -- Corollary 2\n",
    "Prove that, for the same matrices as for Corollary C1,\n",
    "$$\\begin{align}\n",
    "\t\\left(\\ObsMod\\tr \\R^{-1} \\ObsMod + \\B^{-1}\\right)^{-1}\\ObsMod\\tr \\R^{-1}\n",
    "    &= \\B \\ObsMod\\tr \\left( \\R + \\ObsMod \\B \\ObsMod\\tr \\right)^{-1}\n",
    "    \\tag{C2}\n",
    "    \\, .\n",
    "\\end{align}$$"
   ]
  },
  {
   "cell_type": "code",
   "execution_count": null,
   "id": "6de7fb7e",
   "metadata": {},
   "outputs": [],
   "source": [
    "# ws.show_answer('Woodbury C2')"
   ]
  },
  {
   "cell_type": "markdown",
   "id": "3dc6c6de",
   "metadata": {},
   "source": [
    "#### Exc -- The \"Gain\" form of the KF\n",
    "Now, let's go back to the KF, eqns (5) and (6). Since $\\bP\\supf$ and $\\R$ are covariance matrices, they are symmetric-positive. In addition, we will assume that they are full-rank, making them SPD and invertible.  \n",
    "\n",
    "Define the Kalman gain by:\n",
    " $$\\begin{align}\n",
    "    \\K &= \\bP\\supf \\ObsMod\\tr \\big(\\ObsMod \\bP\\supf \\ObsMod\\tr + \\R\\big)^{-1} \\, . \\tag{K1}\n",
    "\\end{align}$$\n",
    " * (a) Apply (C1) to eqn (5) to obtain the Kalman gain form of analysis/posterior covariance matrix:\n",
    "$$\\begin{align}\n",
    "    \\bP\\supa &= [\\I_{\\xDim} - \\K \\ObsMod]\\bP\\supf \\, . \\tag{8}\n",
    "\\end{align}$$\n",
    "\n",
    "* (b) Apply (C2)  to (5) to obtain the identity\n",
    "$$\\begin{align}\n",
    "    \\K &= \\bP\\supa \\ObsMod\\tr \\R^{-1}  \\, . \\tag{K2}\n",
    "\\end{align}$$\n",
    "\n",
    "* (c) Show that $\\bP\\supa (\\bP\\supf)^{-1} = [\\I_{\\xDim} - \\K \\ObsMod]$.\n",
    "* (d) Use (b) and (c) to obtain the Kalman gain form of analysis/posterior covariance\n",
    "$$\\begin{align}\n",
    "     \\x\\supa &= \\x\\supf + \\K\\left[\\y - \\ObsMod \\x\\supf\\right] \\, . \\tag{9}\n",
    "\\end{align}$$\n",
    "Together, eqns (8) and (9) define the Kalman gain form of the KF update.\n",
    "Note that the inversion (eqn 7) involved is of the size of $\\R$, while in eqn (5) it is of the size of $\\bP\\supf$.\n",
    "\n",
    "#### Exc -- KF implemented with gain\n",
    "Implement the Kalman gain form in place of the precision form of the KF, including\n",
    "- Use `scipy.linalg.solve`.\n",
    "- Re-run all cells.\n",
    "- Verify that you get the same result as before."
   ]
  },
  {
   "cell_type": "markdown",
   "id": "cd649c0d",
   "metadata": {},
   "source": [
    "## Summary\n",
    "We have derived two forms of the multivariate KF analysis update step: the \"precision matrix\" form, and the \"Kalman gain\" form. The latter is especially practical when the number of observations is smaller than the length of the state vector. Still, the best is yet to come: the ability to handle very large and chaotic systems\n",
    "(which are more fun than stochastically driven signals such as above)."
   ]
  },
  {
   "cell_type": "markdown",
   "id": "2f4b1a71",
   "metadata": {},
   "source": [
    "### Next: [T6 - Spatial statistics (\"geostatistics\") & Kriging](T6%20-%20Geostatistics%20%26%20Kriging.ipynb)"
   ]
  }
 ],
 "metadata": {
  "jupytext": {
   "formats": "ipynb,py:light"
  },
  "kernelspec": {
   "display_name": "Python 3 (ipykernel)",
   "language": "python",
   "name": "python3"
  },
  "language_info": {
   "codemirror_mode": {
    "name": "ipython",
    "version": 3
   },
   "file_extension": ".py",
   "mimetype": "text/x-python",
   "name": "python",
   "nbconvert_exporter": "python",
   "pygments_lexer": "ipython3",
   "version": "3.9.16"
  }
 },
 "nbformat": 4,
 "nbformat_minor": 5
}
