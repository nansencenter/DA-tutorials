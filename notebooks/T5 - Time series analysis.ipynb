{
 "cells": [
  {
   "cell_type": "code",
   "execution_count": null,
   "metadata": {},
   "outputs": [],
   "source": [
    "import resources.workspace as ws\n",
    "%matplotlib inline\n",
    "import numpy as np\n",
    "import matplotlib.pyplot as plt\n",
    "plt.ion();"
   ]
  },
  {
   "cell_type": "markdown",
   "metadata": {},
   "source": [
    "$\n",
    "% START OF MACRO DEF\n",
    "% DO NOT EDIT IN INDIVIDUAL NOTEBOOKS, BUT IN macros.py\n",
    "%\n",
    "\\newcommand{\\Reals}{\\mathbb{R}}\n",
    "\\newcommand{\\Expect}[0]{\\mathbb{E}}\n",
    "\\newcommand{\\NormDist}{\\mathcal{N}}\n",
    "%\n",
    "\\newcommand{\\DynMod}[0]{\\mathscr{M}}\n",
    "\\newcommand{\\ObsMod}[0]{\\mathscr{H}}\n",
    "%\n",
    "\\newcommand{\\mat}[1]{{\\mathbf{{#1}}}}\n",
    "%\\newcommand{\\mat}[1]{{\\pmb{\\mathsf{#1}}}}\n",
    "\\newcommand{\\bvec}[1]{{\\mathbf{#1}}}\n",
    "%\n",
    "\\newcommand{\\trsign}{{\\mathsf{T}}}\n",
    "\\newcommand{\\tr}{^{\\trsign}}\n",
    "\\newcommand{\\tn}[1]{#1}\n",
    "\\newcommand{\\ceq}[0]{\\mathrel{≔}}\n",
    "%\n",
    "\\newcommand{\\I}[0]{\\mat{I}}\n",
    "\\newcommand{\\K}[0]{\\mat{K}}\n",
    "\\newcommand{\\bP}[0]{\\mat{P}}\n",
    "\\newcommand{\\bH}[0]{\\mat{H}}\n",
    "\\newcommand{\\bF}[0]{\\mat{F}}\n",
    "\\newcommand{\\R}[0]{\\mat{R}}\n",
    "\\newcommand{\\Q}[0]{\\mat{Q}}\n",
    "\\newcommand{\\B}[0]{\\mat{B}}\n",
    "\\newcommand{\\C}[0]{\\mat{C}}\n",
    "\\newcommand{\\Ri}[0]{\\R^{-1}}\n",
    "\\newcommand{\\Bi}[0]{\\B^{-1}}\n",
    "\\newcommand{\\X}[0]{\\mat{X}}\n",
    "\\newcommand{\\A}[0]{\\mat{A}}\n",
    "\\newcommand{\\Y}[0]{\\mat{Y}}\n",
    "\\newcommand{\\E}[0]{\\mat{E}}\n",
    "\\newcommand{\\U}[0]{\\mat{U}}\n",
    "\\newcommand{\\V}[0]{\\mat{V}}\n",
    "%\n",
    "\\newcommand{\\x}[0]{\\bvec{x}}\n",
    "\\newcommand{\\y}[0]{\\bvec{y}}\n",
    "\\newcommand{\\z}[0]{\\bvec{z}}\n",
    "\\newcommand{\\q}[0]{\\bvec{q}}\n",
    "\\newcommand{\\br}[0]{\\bvec{r}}\n",
    "\\newcommand{\\bb}[0]{\\bvec{b}}\n",
    "%\n",
    "\\newcommand{\\bx}[0]{\\bvec{\\bar{x}}}\n",
    "\\newcommand{\\by}[0]{\\bvec{\\bar{y}}}\n",
    "\\newcommand{\\barB}[0]{\\mat{\\bar{B}}}\n",
    "\\newcommand{\\barP}[0]{\\mat{\\bar{P}}}\n",
    "\\newcommand{\\barC}[0]{\\mat{\\bar{C}}}\n",
    "\\newcommand{\\barK}[0]{\\mat{\\bar{K}}}\n",
    "%\n",
    "\\newcommand{\\D}[0]{\\mat{D}}\n",
    "\\newcommand{\\Dobs}[0]{\\mat{D}_{\\text{obs}}}\n",
    "\\newcommand{\\Dmod}[0]{\\mat{D}_{\\text{obs}}}\n",
    "%\n",
    "\\newcommand{\\ones}[0]{\\bvec{1}}\n",
    "\\newcommand{\\AN}[0]{\\big( \\I_N - \\ones \\ones\\tr / N \\big)}\n",
    "%\n",
    "% END OF MACRO DEF\n",
    "$\n",
    "In tutorial [T3](T3%20-%20Univariate%20Kalman%20filtering.ipynb) we saw that the Kalman filter (KF) produces reasonable results for straight lines (in so far as linear regression does!).\n",
    "What about more intricate time series?\n",
    "\n",
    "### The model\n",
    "The straight line example (of the tutorial T3) could result from discretizing the model:\n",
    "\\begin{align*}\n",
    "\\frac{d^2 x}{dt^2} &= 0 \\, .\n",
    "\\end{align*}\n",
    "Here we're going to consider the M-th order model:\n",
    "$$ \\frac{d^M x}{dt^M} = 0 \\, .$$\n",
    "\n",
    "This can be rewritten as a 1-st order vector (i.e. coupled system of) ODE:\n",
    "$$ \\begin{align}\n",
    "\\frac{d x_M}{dt} &= 0 \\, , \\\\\n",
    "\\frac{d x_m}{dt} &= x_{m+1} \\, ,\n",
    "\\end{align} $$\n",
    "where the subscript $1,\\ldots,M$ is the *index* of the state vector element.\n",
    "\n",
    "To make it more interesting, we'll add two terms to this evolution model:  \n",
    " - damping: $\\beta x_m$, with $\\beta < 0$;\n",
    " - noise: $\\frac{d q_m}{dt}$.  \n",
    "\n",
    "Thus,\n",
    "$$ \\frac{d x_m}{dt} = \\beta x_m + x_{m+1} + \\frac{d q_m}{dt} \\, ,$$\n",
    "where $q_m$ is the noise process, and $\\beta = \\log(0.9)$.\n",
    "\n",
    "Discretized by explicit-Euler, with a time step `dt=1`, this yields\n",
    "$$ x_{k+1, m} = 0.9 x_{k, m} + x_{k, m+1} + q_{k, m}\\, ,$$\n",
    "\n",
    "In summary, $\\x_{k+1} = \\DynMod \\x_k + \\q_k$, with $\\DynMod$ as below."
   ]
  },
  {
   "cell_type": "code",
   "execution_count": null,
   "metadata": {},
   "outputs": [],
   "source": [
    "M = 4 # model order (and also ndim)\n",
    "M_matrix = 0.9*np.eye(M) + np.diag(np.ones(M-1), 1)\n",
    "print(M_matrix)"
   ]
  },
  {
   "cell_type": "markdown",
   "metadata": {},
   "source": [
    "### Estimation by the Kalman filter (and smoother) with DAPPER\n",
    "\n",
    "Note that this is an $M$-dimensional time series.\n",
    "However, we'll only observe the first (0th) component.\n",
    "\n",
    "We shall not write the code for the multivariate Kalman filter,\n",
    "because it already exists in DAPPER in `da_methods.py` and is called `ExtKF()`.\n",
    "\n",
    "The following code configures an experiment based on the above model. Don't worry about the specifics. We'll get back to how to use DAPPER later.\n"
   ]
  },
  {
   "cell_type": "code",
   "execution_count": null,
   "metadata": {},
   "outputs": [],
   "source": [
    "import dapper.mods as modelling\n",
    "from dapper.mods.utils import linear_model_setup, partial_Id_Obs\n",
    "\n",
    "# Forecast dynamics\n",
    "Dyn = linear_model_setup(M_matrix, dt0=1)\n",
    "Dyn['noise'] = 0.0001*(1+np.arange(M))\n",
    "\n",
    "# Initial conditions\n",
    "X0 = modelling.GaussRV(M=M, C=0.02*np.arange(M))\n",
    "\n",
    "# Observe 0th component only\n",
    "Obs = partial_Id_Obs(M, [0])\n",
    "Obs['noise'] = 1000\n",
    "\n",
    "# Time settings\n",
    "t = modelling.Chronology(dt=1, dto=5, K=250)\n",
    "\n",
    "# Wrap-up\n",
    "HMM = modelling.HiddenMarkovModel(Dyn, Obs, t, X0)"
   ]
  },
  {
   "cell_type": "markdown",
   "metadata": {},
   "source": [
    "This generates (simulates) a synthetic truth (xx) and observations (yy)"
   ]
  },
  {
   "cell_type": "code",
   "execution_count": null,
   "metadata": {},
   "outputs": [],
   "source": [
    "xx, yy = HMM.simulate()\n",
    "for m, x in enumerate(xx.T):\n",
    "    plt.plot(x, label=\"x^%d\"%m)\n",
    "plt.legend();"
   ]
  },
  {
   "cell_type": "markdown",
   "metadata": {},
   "source": [
    "Now we'll run assimilation methods on the data. Firstly, the KF, available as `ExtKF` in DAPPER:"
   ]
  },
  {
   "cell_type": "code",
   "execution_count": null,
   "metadata": {},
   "outputs": [],
   "source": [
    "import dapper.da_methods as da\n",
    "ExtKF = da.ExtKF()\n",
    "ExtKF.assimilate(HMM, xx, yy)"
   ]
  },
  {
   "cell_type": "markdown",
   "metadata": {},
   "source": [
    "We'll also run the \"Kalman smoother\" available as `ExtRTS`.\n",
    "Without going into details, this method is based on the Kalman *filter* but,\n",
    "being a *smoother*,\n",
    "it also goes backwards and updates previous estimates with future (relatively speaking) observations."
   ]
  },
  {
   "cell_type": "code",
   "execution_count": null,
   "metadata": {},
   "outputs": [],
   "source": [
    "ExtRTS = da.ExtRTS()\n",
    "ExtRTS.assimilate(HMM, xx, yy)"
   ]
  },
  {
   "cell_type": "markdown",
   "metadata": {},
   "source": [
    "### Estimation by \"time series analysis\"\n",
    "The following methods perform time series analysis of the observations, and are mainly derived from signal processing theory.\n",
    "Considering that derivatives can be approximated by differentials, it is plausible that the above model could also be written as an AR(M) process. Thus these methods should perform quite well."
   ]
  },
  {
   "cell_type": "code",
   "execution_count": null,
   "metadata": {},
   "outputs": [],
   "source": [
    "# Tools\n",
    "import scipy as sp\n",
    "import scipy.signal as sp_sp\n",
    "normalize = lambda x: x / x.sum()\n",
    "truncate  = lambda x, n: np.hstack([x[:n], np.zeros(len(x)-n)])\n",
    "\n",
    "# We only estimate the 0-th component.\n",
    "signal = yy[:, 0]\n",
    "\n",
    "# Estimated signals\n",
    "ESig = {}\n",
    "ESig['Gaussian'] = sp_sp.convolve(signal, normalize(sp_sp.gaussian(30, 3)), 'same')\n",
    "ESig['Wiener']   = sp_sp.wiener(signal)\n",
    "ESig['Butter']   = sp_sp.filtfilt(*sp_sp.butter(10, 0.12), signal, padlen=len(signal)//10)\n",
    "ESig['Spline']   = sp.interpolate.UnivariateSpline(t.kko, signal, s=1e4)(t.kko)\n",
    "ESig['Low-pass'] = np.fft.irfft(truncate(np.fft.rfft(signal), len(signal)//14))"
   ]
  },
  {
   "cell_type": "markdown",
   "metadata": {},
   "source": [
    "### Comparison\n",
    "The following code plots the results."
   ]
  },
  {
   "cell_type": "code",
   "execution_count": null,
   "metadata": {},
   "outputs": [],
   "source": [
    "@ws.interact(Visible=ws.SelectMultiple(options=['Truth', *ESig, 'My Method',\n",
    "                                                'Kalman smoother', 'Kalman filter', 'Kalman filter a']))\n",
    "def plot_results(Visible):\n",
    "    plt.figure(figsize=(9, 5))\n",
    "    plt.plot(t.kko, yy, 'k.', alpha=0.4, label=\"Obs\")\n",
    "    if 'Truth'           in Visible: plt.plot(t.kk , xx[:, 0]               , 'k', label=\"Truth\")\n",
    "    if 'Kalman smoother' in Visible: plt.plot(t.kk , ExtRTS.stats.mu.u[:, 0], 'm', label=\"K. smoother\")\n",
    "    if 'Kalman filter'   in Visible: plt.plot(t.kk , ExtKF .stats.mu.u[:, 0], 'b', label=\"K. filter\")\n",
    "    if 'Kalman filter a' in Visible: plt.plot(t.kko, ExtKF .stats.mu.a[:, 0], 'b', label=\"K. filter (a)\")\n",
    "    if 'My Method'       in Visible: plt.plot(t.kk , MyMeth.stats.mu.u[:, 0], 'b', label=\"My method\")\n",
    "    for method, estimate in ESig.items():\n",
    "        if method in Visible: plt.plot(t.kko, estimate, label=method)\n",
    "\n",
    "    plt.ylabel('$x^0$, $y$, and $\\hat{x}^0$')\n",
    "    plt.xlabel('Time index ($k$)')\n",
    "    plt.legend()\n",
    "    plt.show()"
   ]
  },
  {
   "cell_type": "markdown",
   "metadata": {},
   "source": [
    "Visually, it's hard to imagine better performance than from the Kalman smoother.\n",
    "However, recall the advantage of the Kalman filter (and smoother): *they know the forecast model that generated the truth*.\n",
    "\n",
    "Since the noise levels Q and R are given to the DA methods (but they don't know the actual outcomes/realizations of the random noises), they also do not need any *tuning*, compared to signal processing filters, or choosing between the myriad of signal processing filters [out there](https://docs.scipy.org/doc/scipy/reference/signal.html#module-scipy.signal)."
   ]
  },
  {
   "cell_type": "code",
   "execution_count": null,
   "metadata": {},
   "outputs": [],
   "source": [
    "def average_error(estimate_at_obs_times):\n",
    "    return np.mean(np.abs(xx[t.kko, 0] - estimate_at_obs_times))\n",
    "\n",
    "for method, estimate in {**ESig,\n",
    "                         'K. smoother': ExtRTS.stats.mu.u[t.kko, 0],\n",
    "                         'K. filter'  : ExtKF .stats.mu.a[:, 0],\n",
    "                         # 'My Method'  : MyMeth.stats.mu.a[:, 0], # uncomment after Exc 8\n",
    "                        }.items():\n",
    "    print(\"%20s\" % method, \"%.4f\" % average_error(estimate))"
   ]
  },
  {
   "cell_type": "markdown",
   "metadata": {},
   "source": [
    "**Exc 2:** Theoretically, in the long run, the Kalman smoother should yield the optimal result. Verify this by increasing the experiment length to `K=10**4`."
   ]
  },
  {
   "cell_type": "markdown",
   "metadata": {},
   "source": [
    "**Exc 4:** Re-run the experiment with different parameters, for example the observation noise strength or `dko`.  \n",
    "[Results will differ even if you changed nothing because the truth noises (and obs) are stochastic.]"
   ]
  },
  {
   "cell_type": "markdown",
   "metadata": {},
   "source": [
    "**Exc 6:** Right before executing the assimilations (but after simulating the truth and obs), change $R$ by inserting:\n",
    "\n",
    "    HMM.Obs.noise = GaussRV(C=0.01*np.eye(1))\n",
    "\n",
    "What happens to the estimates of the Kalman filter and smoother?"
   ]
  },
  {
   "cell_type": "markdown",
   "metadata": {
    "collapsed": true
   },
   "source": [
    "**Exc 8 (optional):** Try out different methods from DAPPER by replacing `MyMethod` below with one of the following:\n",
    " - Climatology\n",
    " - Var3D\n",
    " - OptInterp\n",
    " - EnKF\n",
    " - EnKS\n",
    " - PartFilt\n",
    "\n",
    "You typically also need to set (and possibly tune) some method parameters. Otherwise you will get an error (or possibly the method will perform very badly). You may find (some) documentation for each method in its source code..."
   ]
  },
  {
   "cell_type": "code",
   "execution_count": null,
   "metadata": {},
   "outputs": [],
   "source": [
    "MyMeth = da.MyMethod(param1=val1, ...)\n",
    "MyMeth.assimilate(HMM, xx, yy)"
   ]
  },
  {
   "cell_type": "markdown",
   "metadata": {},
   "source": [
    "### Summary\n",
    "Like linear regression, time series analysis is also a subset of state estimation and DA [(much of time series analysis can be formulated as state estimation)](https://www.google.com/search?q=\"We+now+demonstrate+how+to+put+these+models+into+state+space+form\"). Moreover, DA methods produce uncertainty quantification, something which is usually more obscure with time series analysis methods. Still, the best is yet to come: DA methods should have the capacity to handle inhomogeneous, multivariate, sparsely observed, chaotic systems (which is more fun than stochastically-driven signals such as the above example)."
   ]
  },
  {
   "cell_type": "markdown",
   "metadata": {},
   "source": [
    "### Next: [Dynamical systems, chaos, Lorenz](T6%20-%20Dynamical%20systems,%20chaos,%20Lorenz.ipynb)"
   ]
  }
 ],
 "metadata": {
  "anaconda-cloud": {},
  "jupytext": {
   "formats": "ipynb,py"
  },
  "kernelspec": {
   "display_name": "Python 3 (ipykernel)",
   "language": "python",
   "name": "python3"
  },
  "language_info": {
   "codemirror_mode": {
    "name": "ipython",
    "version": 3
   },
   "file_extension": ".py",
   "mimetype": "text/x-python",
   "name": "python",
   "nbconvert_exporter": "python",
   "pygments_lexer": "ipython3",
   "version": "3.9.16"
  }
 },
 "nbformat": 4,
 "nbformat_minor": 4
}
