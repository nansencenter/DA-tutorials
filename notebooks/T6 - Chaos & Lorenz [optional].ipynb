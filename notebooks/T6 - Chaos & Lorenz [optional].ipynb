{
 "cells": [
  {
   "cell_type": "code",
   "execution_count": null,
   "id": "c4d69a83",
   "metadata": {},
   "outputs": [],
   "source": [
    "remote = \"https://raw.githubusercontent.com/nansencenter/DA-tutorials\"\n",
    "!wget -qO- {remote}/master/notebooks/resources/colab_bootstrap.sh | bash -s"
   ]
  },
  {
   "cell_type": "code",
   "execution_count": null,
   "id": "541ba865",
   "metadata": {},
   "outputs": [],
   "source": [
    "from resources import show_answer, interact, frame\n",
    "%matplotlib inline\n",
    "import numpy as np\n",
    "import numpy.random as rnd\n",
    "import matplotlib.pyplot as plt\n",
    "plt.ion();"
   ]
  },
  {
   "cell_type": "markdown",
   "id": "c508cac4",
   "metadata": {},
   "source": [
    "# T6 - Chaos & Lorenz\n",
    "\n",
    "***Chaos***\n",
    "is also known as the butterfly effect: \"a butterfly that flaps its wings in Brazil can 'cause' a hurricane in Texas\".\n",
    "As opposed to the opinions of Descartes/Newton/Laplace, chaos effectively means that even in a deterministic (non-stochastic) universe, we can only predict \"so far\" into the future. This will be illustrated below using two toy-model dynamical systems made by ***Edward Lorenz***.\n",
    "$\n",
    "\\newcommand{\\mat}[1]{{\\mathbf{{#1}}}}\n",
    "\\newcommand{\\vect}[1]{{\\mathbf{#1}}}\n",
    "\\newcommand{\\xDim}[0]{D}\n",
    "\\newcommand{\\x}[0]{\\vect{x}}\n",
    "\\newcommand{\\DynMod}[0]{\\mathscr{M}}\n",
    "$\n",
    "\n",
    "## Dynamical systems\n",
    "\n",
    "Dynamical systems are sets of equations whose variables evolve over time (the equations contain time derivatives). As a branch of mathematics, the theory of dynamical systems is mainly concerned with understanding the *behaviour* of solutions (trajectories) to these systems.\n",
    "\n",
    "Below is a function to numerically **integrate**\n",
    "(i.e. step-wise evolve the system forward in time) a set of coupled ODEs.\n",
    "It relies on `scipy`, but adds some conveniences –\n",
    "notably, it takes advantage of Python's `**kwargs` (keyword argument) feature –\n",
    "to define an internal `dxdt` whose only two arguments are\n",
    "`x` for the current state, and `t` for time."
   ]
  },
  {
   "cell_type": "code",
   "execution_count": null,
   "id": "1c641b43",
   "metadata": {},
   "outputs": [],
   "source": [
    "from scipy.integrate import odeint\n",
    "from dapper.mods.integration import rk4\n",
    "dt = 0.01\n",
    "\n",
    "def integrate(dxdt, initial_states, final_time, **params):\n",
    "    # Output shape: `(len(initial_states), nTime, len(x))`\n",
    "    dxdt_fixed = lambda x, t: dxdt(x, t, **params) # Fix params\n",
    "    time_steps = np.linspace(0, final_time, 1+int(final_time / dt))\n",
    "    integrated = []\n",
    "    ### Replace the following (in the next exercise) ###\n",
    "    for x0 in initial_states:\n",
    "        trajectory = odeint(dxdt_fixed, x0, time_steps)\n",
    "        integrated.append(trajectory)\n",
    "    return np.array(integrated), time_steps"
   ]
  },
  {
   "cell_type": "markdown",
   "id": "ae612687",
   "metadata": {},
   "source": [
    "In addition, it takes care of looping over `initial_states`,\n",
    "computing a solution (\"phase space trajectory\") for each one,\n",
    "so that we can compute multiple trajectories at once –\n",
    "this is called a Monte-Carlo simulation, or **ensemble forecasting**.\n",
    "However, *loops are generally slow in Python*.\n",
    "Fortunately, for simple systems,\n",
    "we can write our code so that the dynamics are computed independently (but simultaneously) for the rows of a *matrix* (rather than a single vector), meaning each row in the input produces a corresponding row in the output. This lets `numpy` handle the looping, which is much faster than pure Python.\n",
    "Alternatively, since each simulation is completely independent of the others,\n",
    "they are **\"embarrassingly parallelizable\"**, which is a good option if the system is very costly to simulate.\n",
    "The exercise below challenges you to implement the first approach, resulting in much faster visualisation further below.\n",
    "\n",
    "#### Exc (optional) – speed-up by vectorisation & parallelisation\n",
    "\n",
    "Replace `odeint` in the code above by `rk4` (which does not care about the size/shape of the input, thereby allowing for matrices, i.e. ensembles). Note that the call signature of `rk4` is similar to `odeint`, except that `time_steps` must be replaced by `t` and `dt`. I.e. it only computes a single time step, `t + dt`, so you must loop over `time_steps` yourself. *Hint: `dxdt(x, t, ...)` generally expect axis-0 (i.e. rows) of `x` to be the dimensions of the state vector – not independent realisations of the states.*"
   ]
  },
  {
   "cell_type": "code",
   "execution_count": null,
   "id": "824fa2d1",
   "metadata": {},
   "outputs": [],
   "source": [
    "# show_answer('rk4')"
   ]
  },
  {
   "cell_type": "markdown",
   "id": "ac321e20",
   "metadata": {},
   "source": [
    "## The Lorenz (1963) attractor\n",
    "\n",
    "The [Lorenz-63 dynamical system](https://en.wikipedia.org/wiki/Lorenz_system) can be derived as an extreme simplification of *Rayleigh-Bénard convection*: fluid circulation in a shallow layer of fluid that is uniformly heated from below (and cooled from above).\n",
    "This leads to the following 3 *coupled, nonlinear* ordinary differential equations (ODEs):\n",
    "\n",
    "$$\n",
    "\\begin{aligned}\n",
    "\\dot{x} & = \\sigma(y-x) \\,,\\\\\n",
    "\\dot{y} & = \\rho x - y - xz \\,., \\\\\n",
    "\\dot{z} & = -\\beta z + xy \\,.\n",
    "\\end{aligned}\n",
    "\\tag{1}\n",
    "$$\n",
    "Here, the \"dot\" represents the time derivative, $\\frac{d}{dt}$. The state vector is $\\x = (x,y,z)$, and the equations are often abbreviated in vector form as $\\dot{\\x} = \\vect{f}(\\x)$. The parameters are typically set to $\\sigma = 10, \\beta=8/3, \\rho=28$. The ODEs can be coded as follows (yes, Python supports Unicode, but it might be cumbersome to type out!):"
   ]
  },
  {
   "cell_type": "code",
   "execution_count": null,
   "id": "d9da6a05",
   "metadata": {},
   "outputs": [],
   "source": [
    "def dxdt63(state, time, σ, β, ρ):\n",
    "    x, y, z = state\n",
    "    return np.asarray([σ * (y - x),\n",
    "                       x * (ρ - z) - y,\n",
    "                       x * y - β * z])"
   ]
  },
  {
   "cell_type": "markdown",
   "id": "9deeb895",
   "metadata": {},
   "source": [
    "The following illustrates the system."
   ]
  },
  {
   "cell_type": "code",
   "execution_count": null,
   "id": "0b32a780",
   "metadata": {},
   "outputs": [],
   "source": [
    "store = ['placeholder']\n",
    "@interact(        σ=(0.,200), β=(0.,5), ρ=(0.,50),            N=(1,100), ε=(0.01,10), Time=(0.,100), zoom=(.1, 4))\n",
    "def plot_lorenz63(σ=10,       β=8/3,    ρ=28     , in3D=True, N=2,       ε=0.01,      Time=2.0,      zoom=1):\n",
    "    rnd.seed(23)\n",
    "    initial_states = [-6.1, 1.2, 32.5] + ε*rnd.randn(N, 3)\n",
    "    trajectories, times = integrate(dxdt63, initial_states, Time, σ=σ, β=β, ρ=ρ)\n",
    "    store[0] = trajectories\n",
    "    if in3D:\n",
    "        ax = plt.figure().add_subplot(111, projection='3d')\n",
    "        for orbit in trajectories:\n",
    "            line, = ax.plot(*(orbit.T), lw=1, alpha=.5)\n",
    "            ax.scatter3D(*orbit[-1], s=40, color=line.get_color())\n",
    "        ax.axis('off')\n",
    "        frame(trajectories, ax, zoom)\n",
    "    else:\n",
    "        fig, axs = plt.subplots(3, sharex=True, figsize=(5, 4))\n",
    "        for dim, ax, orbits in zip('xyz', axs, trajectories.T):\n",
    "            start = int(10/dt/zoom)\n",
    "            ax.plot(times[-start:], orbits[-start:], lw=1, alpha=.5)\n",
    "            ax.set_ylabel(dim)\n",
    "        ax.set_xlabel('Time')\n",
    "    plt.show()"
   ]
  },
  {
   "cell_type": "markdown",
   "id": "a9122186",
   "metadata": {},
   "source": [
    "#### Exc – Bifurcation hunting\n",
    "\n",
    "Classic linear stability analysis involves setting eqn. (1) to zero and considering the eigenvalues (and vectors) of its Jacobian matrix. Here, we will approach it mainly by visually inspecting the numerical results of simulations.\n",
    "Answer the following (to an approximate degree of precision) by gradually increasing $\\rho$.\n",
    "Leave the other model parameters at their defaults, but use `ε`, `N`, `Time` and `zoom` to your advantage.\n",
    "\n",
    "- (a) What is the only fixed point for $\\rho = 0$?\n",
    "- (b) At what (larger) value of $\\rho$ does this change?\n",
    "  What do you think happened to the original fixed point?\n",
    "- (c) At what (larger) value of $\\rho$ do we see an oscillating (spiraling) motion?\n",
    "  What do you think this entails for the aforementioned eigenvalues?\n",
    "- (d) Describe the difference in character of the trajectories between $\\rho=10$ and $\\rho=20$.\n",
    "- (e) At what (larger) values of $\\rho$ do we get chaos?\n",
    "  In other words, when do the trajectories no longer converge to fixed points (or limit cycles)?\n",
    "- (f) Also try $\\rho=144$ (edit the code). What is the nature of the trajectories now?\n",
    "- (g) *Optional*: Use pen and paper to show that the fixed points of the Lorenz system (1) are\n",
    "  indeed the origin as well as the roots of $x^2=\\beta z$ with $y=x$,\n",
    "  but that the latter two only exist for $\\rho > 1$.\n",
    "\n",
    "In conclusion, while a dynamical system naturally depends on its parameter values (almost by definition), the way in which its behaviour/character depend on it could come as a surprise."
   ]
  },
  {
   "cell_type": "code",
   "execution_count": null,
   "id": "0d7d8b5b",
   "metadata": {},
   "outputs": [],
   "source": [
    "# show_answer(\"Bifurcations63\")"
   ]
  },
  {
   "cell_type": "markdown",
   "id": "a4bfb994",
   "metadata": {},
   "source": [
    "#### Exc – Doubling time\n",
    "\n",
    "Re-run the animation cell to get default parameter values.\n",
    "Visually investigate the system's (i.e. the trajectories') **sensitivity to initial conditions** by moving `Time`, `N` and `ε`. What do you reckon is the \"doubling time\" of the perturbations? I.e. how long do you think it takes (on average) for two trajectories to grow twice as far apart as they started (alternatives: 0.03, 0.3, 3, 30)? What are the implications for any prediction/forecasting we might attempt?"
   ]
  },
  {
   "cell_type": "code",
   "execution_count": null,
   "id": "e499eb4d",
   "metadata": {},
   "outputs": [],
   "source": [
    "# show_answer('Guesstimate 63')"
   ]
  },
  {
   "cell_type": "markdown",
   "id": "bf11ee89",
   "metadata": {},
   "source": [
    "### Averages\n",
    "\n",
    "The result actually depends on where in \"phase space\" the particles started. For example, predictability in the Lorenz system is much shorter when the state is near the center, where the trajectories diverge into the two wings of the butterfly. So, to get a universal answer, one must average these experiments over many different initial conditions.\n",
    "Alternatively, since the above system is [ergodic](https://en.wikipedia.org/wiki/Ergodic_theory#Ergodic_theorems), we could also average a single experiment over a very, very long time, obtaining the same statistics (assuming they have converged). Though not strictly implied, ergodicity is closely related to chaos. It means that\n",
    "\n",
    "- A trajectory/orbit never quite repeats (the orbit is aperiodic).\n",
    "- The tracks of the orbits are sufficiently \"dense\" that they define a manifold\n",
    "  (something that looks like a surface, such as the butterfly wings above,\n",
    "  and for which we can speak of properties like derivatives and fractal dimension).\n",
    "- Every part (of positive measure) of the manifold can be reached from any other.\n",
    "- There is a probability density for the manifold,\n",
    "  quantifying the relative amount of time (of an infinite amount)\n",
    "  that the system spends in that neighbourhood.\n",
    "\n",
    "Set `N` and `Time` in the above interactive animation to their upper bounds (might take long to run!).\n",
    "Execute the code cell below.\n",
    "Do you think the samples behind the histograms are drawn from the same distribution?\n",
    "In other words, is the Lorenz system ergodic?"
   ]
  },
  {
   "cell_type": "code",
   "execution_count": null,
   "id": "63864a30",
   "metadata": {},
   "outputs": [],
   "source": [
    "@interact()\n",
    "def histograms():\n",
    "    fig, axs = plt.subplots(ncols=3, sharey=True, figsize=(9, 3))\n",
    "    def hist(ax, sample, lbl):\n",
    "        ax.hist(sample, density=1, bins=20, label=lbl, alpha=.5)\n",
    "\n",
    "    trajectories63 = store[0]\n",
    "    for i, (ax, lbl) in enumerate(zip(axs, \"xyz\")):\n",
    "        hist(ax, trajectories63[:, -1, i],            \"at final time\")\n",
    "        hist(ax, trajectories63[-1, ::int(.2/dt), i], \"of final member\")\n",
    "        ax.set_title(f\"Component {lbl}\")\n",
    "    plt.legend();"
   ]
  },
  {
   "cell_type": "markdown",
   "id": "0c805af5",
   "metadata": {},
   "source": [
    "The long-run distribution of a system may be called its **climatology**.\n",
    "A somewhat rudimentary weather forecasting initialization (i.e. DA) technique,\n",
    "called **optimal interpolation**,\n",
    "consists of using the climatology as the prior (as opposed to yesterday's forecast)\n",
    "when applying Bayes' rule (in its [Gaussian guise](T3%20-%20Bayesian%20inference.ipynb#Linear-Gaussian-Bayes'-rule-(1D))) to the observations of the day.\n",
    "\n",
    "## The Lorenz-96 model\n",
    "\n",
    "The model of [Lorenz (1996)](#References) is a \"spatially 1D\" dynamical system\n",
    "with an astoundingly simple *design* that resembles atmospheric convection,\n",
    "including nonlinear terms and chaoticity.\n",
    "Each state variable $\\x_i$ can be considered\n",
    "as some atmospheric quantity at a grid point at a fixed latitude of Earth.\n",
    "The system is given by the coupled set of ODEs,\n",
    "$$\n",
    "\\frac{d \\x_i}{dt} = (\\x_{i+1} − \\x_{i-2}) \\x_{i-1} − \\x_i + \\text{Force}\n",
    "\\,,\n",
    "\\quad \\quad i \\in \\{1,\\ldots,\\xDim\\}\n",
    "\\,,\n",
    "$$\n",
    "where the subscript indices apply periodically.\n",
    "This model is not derived directly from physics, but it has similar characteristics:\n",
    "\n",
    "- external forcing, determined by a parameter $\\text{Force}$;\n",
    "- internal dissipation, emulated by the linear term;\n",
    "- energy-conserving advection, emulated by quadratic terms.\n",
    "\n",
    "**Exc (optional) – Conservation of energy:** Show that the \"total energy\" $\\sum_{i=1}^{\\xDim} \\x_i^2$ is preserved by the quadratic terms in the ODE.  \n",
    "*Hint: consider its time derivative.*"
   ]
  },
  {
   "cell_type": "code",
   "execution_count": null,
   "id": "ad0ec344",
   "metadata": {},
   "outputs": [],
   "source": [
    "# show_answer(\"Lorenz energy\")"
   ]
  },
  {
   "cell_type": "markdown",
   "id": "883979d9",
   "metadata": {},
   "source": [
    "The model is animated below."
   ]
  },
  {
   "cell_type": "code",
   "execution_count": null,
   "id": "2b6bf8f1",
   "metadata": {},
   "outputs": [],
   "source": [
    "def s(vector, n):\n",
    "    return np.roll(vector, -n)\n",
    "\n",
    "def dxdt96(x, time, Force):\n",
    "    return (s(x, 1) - s(x, -2)) * s(x, -1) - x + Force\n",
    "\n",
    "ylims = -10, 20"
   ]
  },
  {
   "cell_type": "code",
   "execution_count": null,
   "id": "a1d875c0",
   "metadata": {},
   "outputs": [],
   "source": [
    "store = [\"placeholder\"]\n",
    "@interact(        xDim=(4,60,1), N=(1,30), Force=(0,15.), ε=(0.01,3,0.1), Time=(0.05,90,0.04))\n",
    "def plot_lorenz96(xDim=40,       N=2,      Force=8,       ε=0.01,         Time=3):\n",
    "    rnd.seed(23)\n",
    "    initial_states = np.zeros((N, xDim))\n",
    "    initial_states[:, 0] = ε*(10 + rnd.randn(N))\n",
    "    trajectories, times = integrate(dxdt96, initial_states, Time, Force=Force)\n",
    "    store[0] = trajectories\n",
    "\n",
    "    plt.figure(figsize=(7, 4))\n",
    "    plt.plot(np.arange(xDim), trajectories[:, -1].T)\n",
    "    plt.ylim(-10, 20)\n",
    "    plt.show()"
   ]
  },
  {
   "cell_type": "markdown",
   "id": "2887e21e",
   "metadata": {},
   "source": [
    "#### Exc – Bifurcation hunting 96\n",
    "\n",
    "Investigate by moving the sliders (but keep `xDim=40`): Under which settings of the forcing\n",
    "\n",
    "- Do the solutions tend to the steady state, i.e. $\\x_i = \\text{Force}$ for all $i$ ?\n",
    "- Are the solutions periodic?\n",
    "- Is the system chaotic (i.e., the solutions are extremely sensitive to initial conditions,\n",
    "  meaning that the predictability horizon is finite) ?\n",
    "\n",
    "*PS: another way to visualise spatially 1D systems (or cross-sections) over time is the [Hovmöller diagram](https://en.wikipedia.org/wiki/Hovm%C3%B6ller_diagram), here represented for 1 realisation of the simulations.*"
   ]
  },
  {
   "cell_type": "code",
   "execution_count": null,
   "id": "70383eb2",
   "metadata": {},
   "outputs": [],
   "source": [
    "@interact()\n",
    "def Hovmoller():\n",
    "    plt.contourf(store[0][0], cmap=\"viridis\", vmin=ylims[0], vmax=ylims[1])\n",
    "    plt.colorbar();\n",
    "    plt.show()"
   ]
  },
  {
   "cell_type": "code",
   "execution_count": null,
   "id": "0a0747c3",
   "metadata": {},
   "outputs": [],
   "source": [
    "# show_answer('Bifurcations96', 'a')"
   ]
  },
  {
   "cell_type": "markdown",
   "id": "c0fb5900",
   "metadata": {},
   "source": [
    "#### Exc (optional) – Doubling time\n",
    "\n",
    "Maximise `N` (for a large sample), minimise `ε` (to approach linear conditions) and set `Time=1` (a reasonable first guess). Compute a rough estimate of the doubling time in the cell below from the data in `store[0]`, which holds the trajectories, and has shape `(N, len(times))`.\n",
    "*Hint: The theory for these questions will be described in further detail in the following section.*"
   ]
  },
  {
   "cell_type": "code",
   "execution_count": null,
   "id": "bc87bd9e",
   "metadata": {},
   "outputs": [],
   "source": [
    "# show_answer(\"doubling time\")"
   ]
  },
  {
   "cell_type": "markdown",
   "id": "ea0d2dda",
   "metadata": {},
   "source": [
    "## The double pendulum\n",
    "\n",
    "The [double pendulum](https://en.wikipedia.org/wiki/Double_pendulum) is another classic example of a chaotic system.\n",
    "It is a little longer to implement, so we'll just load it from [DAPPER](https://github.com/nansencenter/DAPPER/blob/master/dapper/mods/DoublePendulum/__init__.py).\n",
    "Unlike the Lorenz systems, the divergence of its \"$\\vect{f}$\" flow field is 0,\n",
    "so it is conservative, and all of the trajectories preserve their initial energy\n",
    "(except for what friction our numerical integration causes).\n",
    "Therefore it does not strictly speaking possess an attractor\n",
    "nor is it ergodic (but some things might be said upon restriction to the set of initial conditions with equal energy levels?)"
   ]
  },
  {
   "cell_type": "code",
   "execution_count": null,
   "id": "63d512b9",
   "metadata": {},
   "outputs": [],
   "source": [
    "from numpy import cos, sin, pi\n",
    "from dapper.mods.DoublePendulum import L1, L2, x0, dxdt\n",
    "def x012(x): return (0 , L1*sin(x[0]) , L1*sin(x[0]) + L2*sin(x[2]))\n",
    "def y012(x): return (0, -L1*cos(x[0]), -L1*cos(x[0]) - L2*cos(x[2]))\n",
    "\n",
    "x0 = [.9*pi, 0, 0, 0] # Angular pos1, vel1, pos2, vel2\n",
    "initial_states = x0 + 0.01*np.random.randn(20, 4)\n",
    "trajectories, times = integrate(lambda x, t: dxdt(x), initial_states, 10)\n",
    "\n",
    "@interact(k=(0, len(times)-1, 4), N=(1, len(initial_states)))\n",
    "def plot_pendulum2(k=1, N=2):\n",
    "    fig, ax = plt.subplots()\n",
    "    ax.set(xlim=(-2, 2), ylim=(-2, 2), aspect=\"equal\")\n",
    "    for x in trajectories[:N, k]:\n",
    "        ax.plot(x012(x), y012(x), '-o')\n",
    "    plt.show()"
   ]
  },
  {
   "cell_type": "markdown",
   "id": "67801444",
   "metadata": {},
   "source": [
    "<a name=\"Error/perturbation-propagation\"></a>\n",
    "\n",
    "## Error/perturbation propagation\n",
    "\n",
    "**Exc (optional) – Perturbation ODE:** Suppose $\\x(t)$ and $\\x'(t)$ are \"twins\": they evolve according to the same law $\\vect{f}$:\n",
    "$$\n",
    "\\begin{align}\n",
    "\\frac{d \\x}{d t} &= \\vect{f}(\\x) \\\\\n",
    "\\frac{d \\x'}{d t} &= \\vect{f}(\\x') \\,.\n",
    "\\end{align}\n",
    "$$\n",
    "\n",
    "Define the \"error\": $\\boldsymbol{\\varepsilon} = \\x - \\x'$, and suppose $\\boldsymbol{\\varepsilon}(0) = \\boldsymbol{\\varepsilon}_0$ is small.\n",
    "Let $\\mat{F} = \\frac{\\partial \\vect{f}}{\\partial \\x}$, which is called the ***tangent-linear model*** (TLM, non-\"adjoint\").\n",
    "\n",
    "- (a) Show that the error evolves according to the following **linear** ordinary differential equation (ODE)\n",
    "  $\\frac{d \\boldsymbol{\\varepsilon}}{d t} \\approx \\mat{F} \\, \\boldsymbol{\\varepsilon} \\,. \\tag{TLM}$\n",
    "- (b) Until further notice, assume we're in the scalar case, and suppose $F$ is constant.\n",
    "  Show that the error grows exponentially: $\\varepsilon(t) = \\varepsilon_{0} \\, e^{F \\, t} $.  \n",
    "- (c)\n",
    "  - (1) Suppose $F<0$. What happens to the error? What does this mean for predictability?\n",
    "  - (2) Now suppose $F>0$. Given that all observations are uncertain (i.e. $R_t>0$, if only ever so slightly),\n",
    "    can we ever hope to estimate $x(t)$ with 0 uncertainty?\n",
    "    *PS: [T4](T4%20-%20Time%20series%20filtering.ipynb#Exc----Temporal-convergence) goes into further detail*\n",
    "- (d) What is the doubling time of the error?\n",
    "- (e) Consider the modified ODE\n",
    "  $\\frac{d \\varepsilon}{d t} \\approx F \\varepsilon (1 - \\varepsilon / \\varepsilon_{\\infty})$.\n",
    "  What new phenomenon does it model compared to eqn. (TLM)?\n",
    "  Find the solution.\n",
    "- (f) Now suppose $x'(t)$ evolves according to $\\frac{d x'}{d t} = g(x')$, with $g \\neq f$.  \n",
    "  What is the differential equation governing the error, $\\varepsilon$, to leading order?\n",
    "  What new phenomenon does it prescribe, as compared to eqn. (TLM)?\n",
    "- (g, optional) Now drop the scalar assumption.\n",
    "  Assuming diagonalizability, $\\mat{F} = \\mat{T} \\operatorname{diag}(\\vect{d}) \\, \\mat{T}^{-1}$,\n",
    "  show that the solution to eqn. (TLM) is\n",
    "  $\\boldsymbol{\\varepsilon} = \\mat{M} \\, \\boldsymbol{\\varepsilon}_0$,\n",
    "  where $\\mat{M} = \\mat{T} \\operatorname{diag}(e^{\\vect{d} \\, t}) \\, \\mat{T}^{-1}$\n",
    "  is called the ***resolvent*** (or fundamental matrix).\n",
    "  *PS: It can also be expressed as $\\mat{M} = \\frac{\\partial \\DynMod}{\\partial \\vect{x}}$,\n",
    "  if $\\x(t) = \\DynMod(\\x_0)$ for any $\\x_0$.*"
   ]
  },
  {
   "cell_type": "code",
   "execution_count": null,
   "id": "b1741c19",
   "metadata": {},
   "outputs": [],
   "source": [
    "# show_answer(\"error dynamics\", \"a\")"
   ]
  },
  {
   "cell_type": "markdown",
   "id": "52ba3bdc",
   "metadata": {},
   "source": [
    "## Summary\n",
    "\n",
    "Prediction (forecasting) with these systems is challenging because they are chaotic:\n",
    "small errors grow exponentially.\n",
    "Therefore, there is a limit to how far into the future we can make predictions (skillfully).\n",
    "As such, it is crucial to minimize the initial error *as much as possible*.\n",
    "This is a task for DA (filtering).\n",
    "\n",
    "### Next: [T7 - Spatial statistics (\"geostatistics\") & Kriging](T7%20-%20Geostats%20%26%20Kriging%20[optional].ipynb)\n",
    "\n",
    "<a name=\"References\"></a>\n",
    "\n",
    "### References\n",
    "\n",
    "<!--\n",
    "\n",
    "@inproceedings{lorenz1996predictability,\n",
    "    title={Predictability: A problem partly solved},\n",
    "    author={Lorenz, Edward N.},\n",
    "    file={~/P/Refs/articles/lorenz1996predictability.pdf},\n",
    "    booktitle={Proc. {ECMWF} Seminar on Predictability},\n",
    "    volume={1},\n",
    "    address={Reading, UK},\n",
    "    pages={1--18},\n",
    "    year={1996}\n",
    "}\n",
    "-->\n",
    "\n",
    "- **Tseng (2022)**:\n",
    "  Kai-Chih Tseng, \"Chaos and predictability\" [(Jupyter book)](https://kuiper2000.github.io/chaos_and_predictability/intro.html).\n",
    "- **Lorenz (1996)**:\n",
    "  E. N. Lorenz, \"Predictability: A problem partly solved\", Proc. ECMWF Seminar on Predictability, 1996."
   ]
  }
 ],
 "metadata": {
  "jupytext": {
   "formats": "ipynb,scripts//py:light,scripts//md"
  },
  "kernelspec": {
   "display_name": "Python 3 (ipykernel)",
   "language": "python",
   "name": "python3"
  }
 },
 "nbformat": 4,
 "nbformat_minor": 5
}
