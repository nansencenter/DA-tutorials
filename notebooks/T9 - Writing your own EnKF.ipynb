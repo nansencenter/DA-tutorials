{
 "cells": [
  {
   "cell_type": "markdown",
   "metadata": {},
   "source": [
    "# T9 - Writing your own EnKF\n",
    "In this tutorial we're going to code an EnKF implementation using numpy.\n",
    "As with the KF, the EnKF consists of the recursive application of\n",
    "a forecast step and an analysis step.\n",
    "$\n",
    "% START OF MACRO DEF\n",
    "% DO NOT EDIT IN INDIVIDUAL NOTEBOOKS, BUT IN macros.py\n",
    "%\n",
    "\\newcommand{\\Reals}{\\mathbb{R}}\n",
    "\\newcommand{\\Expect}[0]{\\mathbb{E}}\n",
    "\\newcommand{\\NormDist}{\\mathcal{N}}\n",
    "%\n",
    "\\newcommand{\\DynMod}[0]{\\mathscr{M}}\n",
    "\\newcommand{\\ObsMod}[0]{\\mathscr{H}}\n",
    "%\n",
    "\\newcommand{\\mat}[1]{{\\mathbf{{#1}}}}\n",
    "%\\newcommand{\\mat}[1]{{\\pmb{\\mathsf{#1}}}}\n",
    "\\newcommand{\\bvec}[1]{{\\mathbf{#1}}}\n",
    "%\n",
    "\\newcommand{\\trsign}{{\\mathsf{T}}}\n",
    "\\newcommand{\\tr}{^{\\trsign}}\n",
    "\\newcommand{\\tn}[1]{#1}\n",
    "\\newcommand{\\ceq}[0]{\\mathrel{≔}}\n",
    "%\n",
    "\\newcommand{\\I}[0]{\\mat{I}}\n",
    "\\newcommand{\\K}[0]{\\mat{K}}\n",
    "\\newcommand{\\bP}[0]{\\mat{P}}\n",
    "\\newcommand{\\bH}[0]{\\mat{H}}\n",
    "\\newcommand{\\bF}[0]{\\mat{F}}\n",
    "\\newcommand{\\R}[0]{\\mat{R}}\n",
    "\\newcommand{\\Q}[0]{\\mat{Q}}\n",
    "\\newcommand{\\B}[0]{\\mat{B}}\n",
    "\\newcommand{\\C}[0]{\\mat{C}}\n",
    "\\newcommand{\\Ri}[0]{\\R^{-1}}\n",
    "\\newcommand{\\Bi}[0]{\\B^{-1}}\n",
    "\\newcommand{\\X}[0]{\\mat{X}}\n",
    "\\newcommand{\\A}[0]{\\mat{A}}\n",
    "\\newcommand{\\Y}[0]{\\mat{Y}}\n",
    "\\newcommand{\\E}[0]{\\mat{E}}\n",
    "\\newcommand{\\U}[0]{\\mat{U}}\n",
    "\\newcommand{\\V}[0]{\\mat{V}}\n",
    "%\n",
    "\\newcommand{\\x}[0]{\\bvec{x}}\n",
    "\\newcommand{\\y}[0]{\\bvec{y}}\n",
    "\\newcommand{\\z}[0]{\\bvec{z}}\n",
    "\\newcommand{\\q}[0]{\\bvec{q}}\n",
    "\\newcommand{\\br}[0]{\\bvec{r}}\n",
    "\\newcommand{\\bb}[0]{\\bvec{b}}\n",
    "%\n",
    "\\newcommand{\\bx}[0]{\\bvec{\\bar{x}}}\n",
    "\\newcommand{\\by}[0]{\\bvec{\\bar{y}}}\n",
    "\\newcommand{\\barB}[0]{\\mat{\\bar{B}}}\n",
    "\\newcommand{\\barP}[0]{\\mat{\\bar{P}}}\n",
    "\\newcommand{\\barC}[0]{\\mat{\\bar{C}}}\n",
    "\\newcommand{\\barK}[0]{\\mat{\\bar{K}}}\n",
    "%\n",
    "\\newcommand{\\D}[0]{\\mat{D}}\n",
    "\\newcommand{\\Dobs}[0]{\\mat{D}_{\\text{obs}}}\n",
    "\\newcommand{\\Dmod}[0]{\\mat{D}_{\\text{obs}}}\n",
    "%\n",
    "\\newcommand{\\ones}[0]{\\bvec{1}}\n",
    "\\newcommand{\\AN}[0]{\\big( \\I_N - \\ones \\ones\\tr / N \\big)}\n",
    "%\n",
    "% END OF MACRO DEF\n",
    "$"
   ]
  },
  {
   "cell_type": "code",
   "execution_count": null,
   "metadata": {},
   "outputs": [],
   "source": [
    "import resources.workspace as ws\n",
    "import numpy as np\n",
    "import matplotlib as mpl\n",
    "import numpy.random as rnd\n",
    "import matplotlib.pyplot as plt\n",
    "plt.ion();"
   ]
  },
  {
   "cell_type": "markdown",
   "metadata": {},
   "source": [
    "This presentation follows the traditional template, presenting the EnKF as the \"the Monte Carlo version of the KF\n",
    "where the state covariance is estimated by the ensemble covariance\".\n",
    "It is not obvious that this postulated method should work;\n",
    "indeed, it is only justified upon inspection of its properties,\n",
    "deferred to later.\n",
    "\n",
    "<mark><font size=\"-1\">\n",
    "<b>NB:</b>\n",
    "Since we're going to focus on a single filtering cycle (at a time),\n",
    "the subscript $k$ is dropped. Moreover, <br>\n",
    "The superscript $f$ indicates that $\\{\\x_n^f\\}_{n=1..N}$ is the forecast (prior) ensemble.<br>\n",
    "The superscript $a$ indicates that $\\{\\x_n^a\\}_{n=1..N}$ is the analysis (posterior) ensemble.\n",
    "</font></mark>\n",
    "\n",
    "### The forecast step\n",
    "Suppose $\\{\\x_n^a\\}_{n=1..N}$ is an iid. sample from $p(\\x_{k-1} \\mid \\y_1,\\ldots, \\y_{k-1})$, which may or may not be Gaussian.\n",
    "\n",
    "The forecast step of the EnKF consists of a Monte Carlo simulation\n",
    "of the forecast dynamics for each $\\x_n^a$:\n",
    "$$\n",
    "\t\\forall n, \\quad \\x^f_n = \\DynMod(\\x_n^a) + \\q_n  \\, , \\\\\n",
    "$$\n",
    "where $\\{\\q_n\\}_{n=1..N}$ are sampled iid. from $\\NormDist(\\bvec{0},\\Q)$,\n",
    "or whatever noise model is assumed,  \n",
    "and $\\DynMod$ is the model dynamics.\n",
    "The dynamics could consist of *any* function, i.e. the EnKF can be applied with nonlinear models.\n",
    "\n",
    "The ensemble, $\\{\\x_n^f\\}_{n=1..N}$, is then an iid. sample from the forecast pdf,\n",
    "$p(\\x_k \\mid \\y_1,\\ldots,\\y_{k-1})$. This follows from the definition of the latter, so it is a relatively trivial idea and way to obtain this pdf. However, before Monte-Carlo methods were computationally feasible, the computation of the forecast pdf required computing the [Chapman-Kolmogorov equation](https://en.wikipedia.org/wiki/Chapman%E2%80%93Kolmogorov_equation), which constituted a major hurdle for filtering methods.\n",
    "\n",
    "### The analysis update step\n",
    "of the ensemble is given by:\n",
    "$$\\begin{align}\n",
    "\t\\forall n, \\quad \\x^\\tn{a}_n &= \\x_n^\\tn{f} + \\barK \\left\\{\\y - \\br_n - \\ObsMod(\\x_n^\\tn{f}) \\right\\}\n",
    "\t\\, , \\\\\n",
    "\t\\text{or,}\\quad\n",
    "\t\\E^\\tn{a} &=  \\E^\\tn{f}  + \\barK \\left\\{\\y\\ones\\tr - \\Dobs - \\ObsMod(\\E^\\tn{f})  \\right\\} \\, ,\n",
    "    \\tag{4}\n",
    "\\end{align}\n",
    "$$\n",
    "where the \"observation perturbations\", $\\br_n$, are sampled iid. from the observation noise model, e.g. $\\NormDist(\\bvec{0},\\R)$,  \n",
    "and form the columns of $\\Dobs$,  \n",
    "and the observation operator (again, any type of function) $\\ObsMod$ is applied column-wise to $\\E^\\tn{f}$.\n",
    "\n",
    "The gain $\\barK$ is defined by inserting the ensemble estimates for\n",
    " * (i) $\\B \\bH\\tr$: the cross-covariance between $\\x^\\tn{f}$ and $\\ObsMod(\\x^\\tn{f})$, and\n",
    " * (ii) $\\bH \\B \\bH\\tr$: the covariance matrix of $\\ObsMod(\\x^\\tn{f})$,\n",
    "\n",
    "in the formula for $\\K$, namely eqn. (K1) of [T5](T5%20-%20Kalman%20filter%20(multivariate).ipynb).\n",
    "Using the estimators from [T8](T8%20-%20Monte-Carlo%20%26%20ensembles.ipynb) yields\n",
    "$$\\begin{align}\n",
    "\t\\barK &= \\X \\Y\\tr ( \\Y \\Y\\tr + (N{-}1) \\R )^{-1} \\, , \\tag{5a}\n",
    "\\end{align}\n",
    "$$\n",
    "where $\\Y \\in \\Reals^{P \\times N}$\n",
    "is the centered, *observed* ensemble\n",
    "$\\Y \\ceq\n",
    "\\begin{bmatrix}\n",
    "\t\t\\y_1 -\\by, & \\ldots & \\y_n -\\by, & \\ldots & \\y_N -\\by\n",
    "\t\\end{bmatrix} \\, ,$ where $\\y_n = \\ObsMod(\\x_n^\\tn{f})$.\n",
    "\n",
    "The EnKF is summarized in the animation below."
   ]
  },
  {
   "cell_type": "code",
   "execution_count": null,
   "metadata": {},
   "outputs": [],
   "source": [
    "ws.EnKF_animation()"
   ]
  },
  {
   "cell_type": "markdown",
   "metadata": {},
   "source": [
    "#### Exc 2:\n",
    "(a) Use the Woodbury identity (C2) of [T5](T5%20-%20Kalman%20filter%20(multivariate).ipynb) to show that eqn. (5) can also be written\n",
    "$$\\begin{align}\n",
    "\t\\barK &= \\X ( \\Y\\tr \\Ri \\Y + (N{-}1)\\I_N  )^{-1} \\Y\\tr \\Ri \\, . \\tag{5b}\n",
    "\\end{align}\n",
    "$$\n",
    "(b) What is the potential benefit?"
   ]
  },
  {
   "cell_type": "markdown",
   "metadata": {},
   "source": [
    "#### Exc 4:\n",
    "The above animation assumed that the observation operator is just the identity matrix, $\\I$, rather than a general observation operator, $\\ObsMod()$. Meanwhile, the Kalman gain used by the EnKF, eqn. (5a), is applicable for any $\\ObsMod()$. On the other hand, the formula (5a) consists solely of linear algebra. Therefore it cannot perfectly represent any general (nonlinear) $\\ObsMod()$. So how does it actually treat the observation operator? What meaning can we assign to the resulting updates?  \n",
    "*Hint*: consider the limit of $\\R \\rightarrow 0$."
   ]
  },
  {
   "cell_type": "markdown",
   "metadata": {},
   "source": [
    "#### Exc 6 (a):\n",
    "Consider the ensemble averages,\n",
    " - $\\bx^\\tn{a} = \\frac{1}{N}\\sum_{n=1}^N \\x^\\tn{a}_n$, and\n",
    " - $\\bx^\\tn{f} = \\frac{1}{N}\\sum_{n=1}^N \\x^\\tn{f}_n$,\n",
    "\n",
    "and recall that the analysis step, eqn. (4), defines $\\x^\\tn{a}_n$ from $\\x^\\tn{f}_n$.\n",
    "\n",
    "\n",
    "(a) Show that, in case $\\ObsMod$ is linear (the matrix $\\bH$),\n",
    "$$\\begin{align}\n",
    "\t\\Expect \\bx^\\tn{a} &=  \\bx^\\tn{f}  + \\barK \\left\\{\\y\\ones\\tr - \\bH\\bx^\\tn{f}  \\right\\} \\, , \\tag{6}\n",
    "\\end{align}\n",
    "$$\n",
    "where the expectation, $\\Expect$, is taken with respect to $\\Dobs$ only (i.e. not the sampling of the forecast ensemble, $\\E^\\tn{f}$ itself).\n",
    "\n",
    "What does this mean?"
   ]
  },
  {
   "cell_type": "code",
   "execution_count": null,
   "metadata": {},
   "outputs": [],
   "source": [
    "# ws.show_answer(\"EnKF_nobias_a\")"
   ]
  },
  {
   "cell_type": "markdown",
   "metadata": {},
   "source": [
    "#### Exc 6 (b) (optional):\n",
    "Consider the ensemble covariance matrices:\n",
    "$$\\begin{align}\n",
    "\\barB &= \\frac{1}{N-1} \\X{\\X}\\tr \\, , \\tag{7a} \\\\\\\n",
    "\\barP &= \\frac{1}{N-1} \\X^a{\\X^a}\\tr \\, . \\tag{7b}\n",
    "\\end{align}$$\n",
    "\n",
    "Now, denote the centralized observation perturbations:\n",
    "$$\\begin{align}\n",
    "\\D &= \\Dobs - \\bar{\\br}\\ones\\tr \\\\\\\n",
    "&= \\Dobs\\AN \\, . \\tag{8}\n",
    "\\end{align}$$\n",
    "Note that $\\D \\ones = \\bvec{0}$ and, with expectation over $\\Dobs$,\n",
    "$$\n",
    "\\begin{align}\n",
    "\t\\label{eqn:R_sample_cov_of_D}\n",
    "\t\\frac{1}{N-1}\\D \\D\\tr = \\R \\, , \\tag{9a} \\\\\\\n",
    "\t\\label{eqn:zero_AD_cov}\n",
    "\t\\X \\D\\tr = \\bvec{0} \\, . \\tag{9b}\n",
    "\\end{align}\n",
    "$$\n",
    "Assuming eqns (8) and (9) hold true, show that\n",
    "$$\\begin{align}\n",
    "    \\barP &= [\\I_M - \\barK \\bH]\\barB \\, . \\tag{10}\n",
    "\\end{align}$$"
   ]
  },
  {
   "cell_type": "code",
   "execution_count": null,
   "metadata": {},
   "outputs": [],
   "source": [
    "# ws.show_answer(\"EnKF_nobias_b\")"
   ]
  },
  {
   "cell_type": "markdown",
   "metadata": {},
   "source": [
    "#### Exc 6 (c) (optional):\n",
    "Show that, if no observation perturbations are used in eqn. (4), then $\\barP$ would be too small."
   ]
  },
  {
   "cell_type": "code",
   "execution_count": null,
   "metadata": {},
   "outputs": [],
   "source": [
    "# ws.show_answer(\"EnKF_without_perturbations\")"
   ]
  },
  {
   "cell_type": "markdown",
   "metadata": {},
   "source": [
    "## Experimental setup\n",
    "\n",
    "Before making the EnKF, we'll set up an experiment to test it with, so that you can check if you've implemented a working method or not.\n",
    "\n",
    "To that end, we'll use the Lorenz-63 model, from [T7](T7%20-%20Chaos%20%26%20Lorenz.ipynb). The coupled ODEs are recalled here, but with some of the parameters fixed."
   ]
  },
  {
   "cell_type": "code",
   "execution_count": null,
   "metadata": {},
   "outputs": [],
   "source": [
    "M = 3 # ndim\n",
    "\n",
    "def dxdt(x):\n",
    "    sig  = 10.0\n",
    "    rho  = 28.0\n",
    "    beta = 8.0/3\n",
    "    x,y,z = x\n",
    "    d     = np.zeros(3)\n",
    "    d[0]  = sig*(y - x)\n",
    "    d[1]  = rho*x - y - x*z\n",
    "    d[2]  = x*y - beta*z\n",
    "    return d"
   ]
  },
  {
   "cell_type": "markdown",
   "metadata": {},
   "source": [
    "Next, we make the forecast model $\\DynMod$ out of $\\frac{d \\x}{dt}$ such that $\\x(t+dt) = \\DynMod(\\x(t),t,dt)$. We'll make use of the \"4th order Runge-Kutta\" integrator `rk4`."
   ]
  },
  {
   "cell_type": "code",
   "execution_count": null,
   "metadata": {},
   "outputs": [],
   "source": [
    "from dapper.mods.integration import rk4\n",
    "\n",
    "def Dyn(E, t0, dt):\n",
    "\n",
    "    def step(x0):\n",
    "        return rk4(lambda x, t: dxdt(x), x0, t0, dt)\n",
    "\n",
    "    if E.ndim == 1:\n",
    "        # Truth (single state vector) case\n",
    "        E = step(E)\n",
    "    else:\n",
    "        # Ensemble case\n",
    "        for n in range(E.shape[1]):\n",
    "            E[:, n] = step(E[:, n])\n",
    "\n",
    "    return E\n",
    "\n",
    "Q_chol = np.zeros((M, M))\n",
    "Q      = Q_chol @ Q_chol.T"
   ]
  },
  {
   "cell_type": "markdown",
   "metadata": {},
   "source": [
    "Notice the loop over each ensemble member. For better performance, this should be vectorized, if possible. Or, if the forecast model is computationally demanding (as is typically the case in real applications), the loop should be parallelized: i.e. the forecast simulations should be distributed to separate computers."
   ]
  },
  {
   "cell_type": "markdown",
   "metadata": {},
   "source": [
    "The following are the time settings that we will use"
   ]
  },
  {
   "cell_type": "code",
   "execution_count": null,
   "metadata": {},
   "outputs": [],
   "source": [
    "dt    = 0.01           # integrational time step\n",
    "dko   = 25             # number of steps between observations\n",
    "dto   = dko*dt         # time between observations\n",
    "Ko    = 60             # total number of observations\n",
    "K     = dko*(Ko+1)     # total number of time steps"
   ]
  },
  {
   "cell_type": "markdown",
   "metadata": {},
   "source": [
    "Initial conditions"
   ]
  },
  {
   "cell_type": "code",
   "execution_count": null,
   "metadata": {},
   "outputs": [],
   "source": [
    "mu0     = np.array([1.509, -1.531, 25.46])\n",
    "P0_chol = np.eye(3)\n",
    "P0      = P0_chol @ P0_chol.T"
   ]
  },
  {
   "cell_type": "markdown",
   "metadata": {},
   "source": [
    "Observation model settings"
   ]
  },
  {
   "cell_type": "code",
   "execution_count": null,
   "metadata": {},
   "outputs": [],
   "source": [
    "p = 3 # ndim obs\n",
    "def Obs(E, t):\n",
    "    if E.ndim == 1: return E[:p]\n",
    "    else:           return E[:p, :]\n",
    "\n",
    "R_chol = np.sqrt(2)*np.eye(p)\n",
    "R      = R_chol @ R_chol.T"
   ]
  },
  {
   "cell_type": "markdown",
   "metadata": {},
   "source": [
    "Generate synthetic truth (`xx`) and observations (`yy`)"
   ]
  },
  {
   "cell_type": "code",
   "execution_count": null,
   "metadata": {},
   "outputs": [],
   "source": [
    "# Init\n",
    "xx    = np.zeros((K+1 , M))\n",
    "yy    = np.zeros((Ko+1, p))\n",
    "xx[0] = mu0 + P0_chol @ rnd.randn(M)"
   ]
  },
  {
   "cell_type": "code",
   "execution_count": null,
   "metadata": {},
   "outputs": [],
   "source": [
    "# Loop\n",
    "for k in range(1, K+1):\n",
    "    xx[k]  = Dyn(xx[k-1], (k-1)*dt, dt)\n",
    "    xx[k] += Q_chol @ rnd.randn(M)\n",
    "    if k%dko == 0:\n",
    "        Ko = k//dko-1\n",
    "        yy[Ko] = Obs(xx[k], np.nan) + R_chol @ rnd.randn(p)"
   ]
  },
  {
   "cell_type": "markdown",
   "metadata": {},
   "source": [
    "## EnKF implementation"
   ]
  },
  {
   "cell_type": "markdown",
   "metadata": {},
   "source": [
    "We will make use of `estimate_mean_and_cov` and `estimate_cross_cov` from the previous section. Paste them in below."
   ]
  },
  {
   "cell_type": "code",
   "execution_count": null,
   "metadata": {},
   "outputs": [],
   "source": [
    "# def estimate_mean_and_cov ..."
   ]
  },
  {
   "cell_type": "markdown",
   "metadata": {},
   "source": [
    "**Exc 8:** Complete the code below"
   ]
  },
  {
   "cell_type": "code",
   "execution_count": null,
   "metadata": {},
   "outputs": [],
   "source": [
    "xxhat = np.zeros((K+1, M))\n",
    "\n",
    "# Useful linear algebra: compute B/A\n",
    "import numpy.linalg as nla\n",
    "def divide_1st_by_2nd(B, A):\n",
    "    return nla.solve(A.T, B.T).T\n",
    "\n",
    "def my_EnKF(N):\n",
    "    # Init ensemble\n",
    "    ...\n",
    "    for k in range(1, K+1):\n",
    "        # Forecast\n",
    "        t   = k*dt\n",
    "        # use model\n",
    "        E   = ...\n",
    "        # add noise\n",
    "        E  += ...\n",
    "        if k%dko == 0:\n",
    "            # Analysis\n",
    "            y        = yy[k//dko-1]   # current observation\n",
    "            Eo       = Obs(E, t)      # observed ensemble\n",
    "            # Compute ensemble moments\n",
    "            BH       = ...\n",
    "            HBH      = ...\n",
    "            # Compute Kalman Gain\n",
    "            KG       = ...\n",
    "            # Generate perturbations\n",
    "            Perturb  = ...\n",
    "            # Update ensemble with KG\n",
    "            E       += ...\n",
    "        # Save statistics\n",
    "        xxhat[k] = np.mean(E, axis=1)"
   ]
  },
  {
   "cell_type": "markdown",
   "metadata": {},
   "source": [
    "Notice that we only store some stats (`xxhat`). This is because in large systems, keeping the entire ensemble in memory is probably too much."
   ]
  },
  {
   "cell_type": "code",
   "execution_count": null,
   "metadata": {},
   "outputs": [],
   "source": [
    "# ws.show_answer('EnKF v1')"
   ]
  },
  {
   "cell_type": "markdown",
   "metadata": {},
   "source": [
    "Now let's try out its capabilities"
   ]
  },
  {
   "cell_type": "code",
   "execution_count": null,
   "metadata": {},
   "outputs": [],
   "source": [
    "# Run assimilation\n",
    "my_EnKF(10)\n",
    "\n",
    "# Plot\n",
    "fig, axs = plt.subplots(nrows=3, sharex=True)\n",
    "for m in range(3):\n",
    "    axs[m].plot(dt*np.arange(K+1), xx   [:, m], 'k', label=\"Truth\")\n",
    "    axs[m].plot(dt*np.arange(K+1), xxhat[:, m], 'b', label=\"Estimate\")\n",
    "    if m<p:\n",
    "        axs[m].plot(dto*np.arange(1, Ko+2), yy[:, m], 'g*')\n",
    "    axs[m].set_ylabel(\"Dim %d\"%m)\n",
    "axs[0].legend()\n",
    "plt.xlabel(\"Time (t)\")"
   ]
  },
  {
   "cell_type": "markdown",
   "metadata": {},
   "source": [
    "**Exc 10:** The visuals of the plots are nice. But it would be good to have a summary statistic of the accuracy performance of the filter. Make a function `average_rmse(xx, xxhat)` that computes $ \\frac{1}{K+1} \\sum_{k=0}^K \\sqrt{\\frac{1}{M} \\| \\bx_k - \\x_k \\|_2^2} \\, .$"
   ]
  },
  {
   "cell_type": "code",
   "execution_count": null,
   "metadata": {},
   "outputs": [],
   "source": [
    "def average_rmse(xx, xxhat):\n",
    "    ### INSERT ANSWER ###\n",
    "    return average\n",
    "\n",
    "# Test\n",
    "average_rmse(xx, xxhat)"
   ]
  },
  {
   "cell_type": "code",
   "execution_count": null,
   "metadata": {},
   "outputs": [],
   "source": [
    "# ws.show_answer('rmse')"
   ]
  },
  {
   "cell_type": "markdown",
   "metadata": {},
   "source": [
    "**Exc 12:**\n",
    " * (a). Repeat the above experiment, but now observing only the first (0th) component of the state."
   ]
  },
  {
   "cell_type": "code",
   "execution_count": null,
   "metadata": {},
   "outputs": [],
   "source": [
    "# ws.show_answer('Repeat experiment a')"
   ]
  },
  {
   "cell_type": "markdown",
   "metadata": {},
   "source": [
    " * (b). Put a `seed()` command in the right place so as to be able to recreate exactly the same results from an experiment."
   ]
  },
  {
   "cell_type": "code",
   "execution_count": null,
   "metadata": {},
   "outputs": [],
   "source": [
    "# ws.show_answer('Repeat experiment b')"
   ]
  },
  {
   "cell_type": "markdown",
   "metadata": {},
   "source": [
    " * (c). Use $N=5$, and repeat the experiments. This is quite a small ensemble size, and quite often it will yield divergence: the EnKF \"definitely loses track\" of the truth, typically because of strong nonlinearity in the forecast models, and underestimation (by $\\barP)$ of the actual errors. Repeat the experiment with different seeds until you observe in the plots that divergence has happened.\n",
    " * (d). Implement \"multiplicative inflation\" to remedy the situation; this is a factor that should spread the ensemble further apart; a simple version is to inflate the perturbations. Implement it, and tune its value to try to avoid divergence."
   ]
  },
  {
   "cell_type": "code",
   "execution_count": null,
   "metadata": {},
   "outputs": [],
   "source": [
    "# ws.show_answer('Repeat experiment cd')"
   ]
  }
 ],
 "metadata": {
  "anaconda-cloud": {},
  "jupytext": {
   "formats": "ipynb,py"
  },
  "kernelspec": {
   "display_name": "Python 3 (ipykernel)",
   "language": "python",
   "name": "python3"
  },
  "language_info": {
   "codemirror_mode": {
    "name": "ipython",
    "version": 3
   },
   "file_extension": ".py",
   "mimetype": "text/x-python",
   "name": "python",
   "nbconvert_exporter": "python",
   "pygments_lexer": "ipython3",
   "version": "3.9.16"
  }
 },
 "nbformat": 4,
 "nbformat_minor": 4
}
