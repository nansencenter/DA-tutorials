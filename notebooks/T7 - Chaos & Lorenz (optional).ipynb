{
 "cells": [
  {
   "cell_type": "code",
   "execution_count": null,
   "id": "34897bb2",
   "metadata": {},
   "outputs": [],
   "source": [
    "remote = \"https://raw.githubusercontent.com/nansencenter/DA-tutorials\"\n",
    "!wget -qO- {remote}/master/notebooks/resources/colab_bootstrap.sh | bash -s\n",
    "from resources import show_answer, interact, frame"
   ]
  },
  {
   "cell_type": "code",
   "execution_count": null,
   "id": "0bd0a9c2",
   "metadata": {},
   "outputs": [],
   "source": [
    "%matplotlib inline\n",
    "import numpy as np\n",
    "import numpy.random as rnd\n",
    "import matplotlib.pyplot as plt\n",
    "plt.ion();"
   ]
  },
  {
   "cell_type": "markdown",
   "id": "e10becff",
   "metadata": {},
   "source": [
    "# T7 - Chaos & Lorenz\n",
    "***Chaos***\n",
    "is also known as the butterfly effect: \"a butterfly that flaps its wings in Brazil can 'cause' a hurricane in Texas\".\n",
    "As opposed to the opinions of Descartes/Newton/Laplace, chaos effectively means that even in a deterministic (non-stochastic) universe, we can only predict \"so far\" into the future. This will be illustrated below using two toy-model dynamical systems made by ***Edward Lorenz***.\n",
    "$\n",
    "% ######################################## Loading TeX (MathJax)... Please wait ########################################\n",
    "\\newcommand{\\Reals}{\\mathbb{R}} \\newcommand{\\Expect}[0]{\\mathbb{E}} \\newcommand{\\NormDist}{\\mathcal{N}} \\newcommand{\\DynMod}[0]{\\mathscr{M}} \\newcommand{\\ObsMod}[0]{\\mathscr{H}} \\newcommand{\\mat}[1]{{\\mathbf{{#1}}}} \\newcommand{\\bvec}[1]{{\\mathbf{#1}}} \\newcommand{\\trsign}{{\\mathsf{T}}} \\newcommand{\\tr}{^{\\trsign}} \\newcommand{\\ceq}[0]{\\mathrel{≔}} \\newcommand{\\xDim}[0]{D} \\newcommand{\\supa}[0]{^\\text{a}} \\newcommand{\\supf}[0]{^\\text{f}} \\newcommand{\\I}[0]{\\mat{I}} \\newcommand{\\K}[0]{\\mat{K}} \\newcommand{\\bP}[0]{\\mat{P}} \\newcommand{\\bH}[0]{\\mat{H}} \\newcommand{\\bF}[0]{\\mat{F}} \\newcommand{\\R}[0]{\\mat{R}} \\newcommand{\\Q}[0]{\\mat{Q}} \\newcommand{\\B}[0]{\\mat{B}} \\newcommand{\\C}[0]{\\mat{C}} \\newcommand{\\Ri}[0]{\\R^{-1}} \\newcommand{\\Bi}[0]{\\B^{-1}} \\newcommand{\\X}[0]{\\mat{X}} \\newcommand{\\A}[0]{\\mat{A}} \\newcommand{\\Y}[0]{\\mat{Y}} \\newcommand{\\E}[0]{\\mat{E}} \\newcommand{\\U}[0]{\\mat{U}} \\newcommand{\\V}[0]{\\mat{V}} \\newcommand{\\x}[0]{\\bvec{x}} \\newcommand{\\y}[0]{\\bvec{y}} \\newcommand{\\z}[0]{\\bvec{z}} \\newcommand{\\q}[0]{\\bvec{q}} \\newcommand{\\br}[0]{\\bvec{r}} \\newcommand{\\bb}[0]{\\bvec{b}} \\newcommand{\\bx}[0]{\\bvec{\\bar{x}}} \\newcommand{\\by}[0]{\\bvec{\\bar{y}}} \\newcommand{\\barB}[0]{\\mat{\\bar{B}}} \\newcommand{\\barP}[0]{\\mat{\\bar{P}}} \\newcommand{\\barC}[0]{\\mat{\\bar{C}}} \\newcommand{\\barK}[0]{\\mat{\\bar{K}}} \\newcommand{\\D}[0]{\\mat{D}} \\newcommand{\\Dobs}[0]{\\mat{D}_{\\text{obs}}} \\newcommand{\\Dmod}[0]{\\mat{D}_{\\text{obs}}} \\newcommand{\\ones}[0]{\\bvec{1}} \\newcommand{\\AN}[0]{\\big( \\I_N - \\ones \\ones\\tr / N \\big)}\n",
    "$"
   ]
  },
  {
   "cell_type": "markdown",
   "id": "b8d0ba18",
   "metadata": {},
   "source": [
    "## Dynamical systems\n",
    "Dynamical system are systems (sets of equations) whose variables evolve in time (the equations contains time derivatives). As a branch of mathematics, its theory is mainly concerned with understanding the *behaviour* of solutions (trajectories) of the systems.\n",
    "\n",
    "Below is a function to numerically **integrate**\n",
    "(i.e. step-wise evolve the system forward in time) a set of coupled ODEs.\n",
    "It relies on `scipy`, but adds some conveniences,\n",
    "notably taking advantage of Python's `**kwargs` (key-word argument) feature,\n",
    "to define an internal `dxdt` whose only two arguments are\n",
    "`x` for the current state, and `t` for time."
   ]
  },
  {
   "cell_type": "code",
   "execution_count": null,
   "id": "60a89b58",
   "metadata": {},
   "outputs": [],
   "source": [
    "from scipy.integrate import odeint\n",
    "# from dapper.mods.integration import rk4\n",
    "dt = 0.01\n",
    "\n",
    "def integrate(dxdt, initial_states, final_time, **params):\n",
    "    # Output shape: `(len(initial_states), nTime, len(x))`\n",
    "    dxdt_fixed = lambda x, t: dxdt(x, t, **params) # Fix params\n",
    "    time_steps = np.linspace(0, final_time, 1+int(final_time / dt))\n",
    "    integrated = []\n",
    "    ### Replace the following (in the next exercise) ###\n",
    "    for x0 in initial_states:\n",
    "        trajectory = odeint(dxdt_fixed, x0, time_steps)\n",
    "        integrated.append(trajectory)\n",
    "    return np.array(integrated), time_steps"
   ]
  },
  {
   "cell_type": "markdown",
   "id": "9257c37a",
   "metadata": {},
   "source": [
    "In addition, it takes care of looping over `initial_states`,\n",
    "computing a solution (\"phase space trajectory\") for each one,\n",
    "so that we can ask it to compute multiple trajectories at once,\n",
    "which we call Monte-Carlo simulation, or **ensemble forecasting**.\n",
    "But *loops are generally slow in Python*.\n",
    "Fortunately, for simple systems,\n",
    "we can write our code such that the dynamics get independently (but simultaneously) computed for rows of a *matrix* (rather than a single vector), meaning that each row in the input produces a corresponding row in the output. This in effect leaves `numpy` to do the looping (which it does much quicker than pure Python).\n",
    "Alternatively, since each simulation is completely independent of another realisation,\n",
    "they can \"embarrasingly\" easily be parallelized, which is a good option if the system is very costly to simulate.\n",
    "The exercise below challenges you to implement the first approach, resulting in much faster visualisation further below.\n",
    "\n",
    "#### Exc (optional) -- speed-up by vectorisation & parallelisation\n",
    "Replace `odeint` in the code above by `rk4` (which does not care about the size/shape of the input, thereby allowing for matrices, i.e. ensembles). Note that the call signature of `rk4` is similar to `odeint`, except that `time_steps` must be replaced by `t` and `dt`. I.e. it only computes a single time step, `t + dt`, so you must loop over `time_steps` yourself. *Hint: `dxdt(x, t, ...)` generally expect axis-0 (i.e. rows) of `x` to be the dimensions of the state vector -- not independent realisations of the states.*"
   ]
  },
  {
   "cell_type": "code",
   "execution_count": null,
   "id": "7ff120da",
   "metadata": {},
   "outputs": [],
   "source": [
    "# show_answer('rk4')"
   ]
  },
  {
   "cell_type": "markdown",
   "id": "543f88a3",
   "metadata": {},
   "source": [
    "## The Lorenz (1963) attractor\n",
    "\n",
    "The [Lorenz-63 dynamical system](https://en.wikipedia.org/wiki/Lorenz_system) can be derived as an extreme simplification of *Rayleigh-Bénard convection*: fluid circulation in a shallow layer of fluid uniformly heated (cooled) from below (above).\n",
    "This produces the following 3 *coupled, nonlinear* ordinary differential equations (ODE):\n",
    "\n",
    "$$\n",
    "\\begin{aligned}\n",
    "\\dot{x} & = \\sigma(y-x) \\\\\n",
    "\\dot{y} & = \\rho x - y - xz \\\\\n",
    "\\dot{z} & = -\\beta z + xy\n",
    "\\end{aligned}\n",
    "\\tag{1}\n",
    "$$\n",
    "\n",
    "where the \"dot\" represents the time derivative, $\\frac{d}{dt}$. The state vector is $\\x = (x,y,z)$, and the parameters are typically set to $\\sigma = 10, \\beta=8/3, \\rho=28$. The ODEs can be coded as follows (yes, Python supports Unicode, but it might be cumbersome to type out!)"
   ]
  },
  {
   "cell_type": "code",
   "execution_count": null,
   "id": "f68bbe5e",
   "metadata": {},
   "outputs": [],
   "source": [
    "def dxdt63(state, t0, σ, β, ρ):\n",
    "    x, y, z = state\n",
    "    return np.asarray([σ * (y - x),\n",
    "                       x * (ρ - z) - y,\n",
    "                       x * y - β * z])"
   ]
  },
  {
   "cell_type": "markdown",
   "id": "b9ba5e05",
   "metadata": {},
   "source": [
    "The following illustrated the system."
   ]
  },
  {
   "cell_type": "code",
   "execution_count": null,
   "id": "ab2bc9b8",
   "metadata": {},
   "outputs": [],
   "source": [
    "store = ['placeholder']\n",
    "@interact(        σ=(0.,200), β=(0.,5), ρ=(0.,50),            N=(1,100), ε=(0.01,10), Time=(0.,100), zoom=(.1, 4))\n",
    "def plot_lorenz63(σ=10,       β=8/3,    ρ=28     , in3D=True, N=2,       ε=0.01,      Time=2.0,      zoom=1):\n",
    "    rnd.seed(23)\n",
    "    initial_states = [-6.1, 1.2, 32.5] + ε*rnd.randn(N, 3)\n",
    "    trajectories, times = integrate(dxdt63, initial_states, Time, σ=σ, β=β, ρ=ρ)\n",
    "    store[0] = trajectories\n",
    "    if in3D:\n",
    "        ax = plt.figure().add_subplot(111, projection='3d')\n",
    "        for orbit in trajectories:\n",
    "            line, = ax.plot(*(orbit.T), lw=1, alpha=.5)\n",
    "            ax.scatter3D(*orbit[-1], s=40, color=line.get_color())\n",
    "        ax.axis('off')\n",
    "        frame(trajectories, ax, zoom)\n",
    "    else:\n",
    "        fig, axs = plt.subplots(3, sharex=True, figsize=(5, 4))\n",
    "        for dim, ax, orbits in zip('xyz', axs, trajectories.T):\n",
    "            start = int(10/dt/zoom)\n",
    "            ax.plot(times[-start:], orbits[-start:], lw=1, alpha=.5)\n",
    "            ax.set_ylabel(dim)\n",
    "        ax.set_xlabel('Time')\n",
    "    plt.show()"
   ]
  },
  {
   "cell_type": "markdown",
   "id": "4ceba536",
   "metadata": {},
   "source": [
    "#### Exc -- Bifurcation hunting\n",
    "Classic linear stability analysis involves setting eqn. (1) to zero and considering the eigenvalues (and vectors) of its Jacobian matrix. Here we will go about it mainly by visually inspecting the numerical results of simulations.\n",
    "Answer the following (to an approximate degree of precision) by graduallying increasing $\\rho$.\n",
    "Leave the other model parameters at their defaults, but use `ε`, `N`, `Time` and `zoom` to your advantage.\n",
    "- (a) What is the only fixed point for $\\rho = 0$?\n",
    "- (b) At what (larger) value of $\\rho$ does this change?\n",
    "  What do you think happened to the original fixed point?\n",
    "- (c) At what (larger) value of $\\rho$ do we see an oscillating (spiraling) motion?\n",
    "  What do you think this entails for the aforementioned eigenvalues?\n",
    "- (d) Describe the difference in character of the trajectories between $\\rho=10$ and $\\rho=20$.\n",
    "- (e) At what (larger) values of $\\rho$ do we get chaos?\n",
    "  In other words, when do the trajectories no longer converge to fixed points (or limit cycles)?\n",
    "- (f) Also try $\\rho=144$ (edit the code). What is the nature of the trajectories now?\n",
    "- (g) *Optional*: Use pen and paper to show that the fixed points of the Lorenz system (1) are\n",
    "  indeed the origin as well as the roots of $x^2=\\beta z$ with $y=x$,\n",
    "  but that the latter two only exist for $\\rho > 1$.\n",
    "\n",
    "In conclusion, while a dynamical system naturally depends on its paramater values (almost by definition), the way in which its behaviour/character depend on it could come as a surprise."
   ]
  },
  {
   "cell_type": "code",
   "execution_count": null,
   "id": "8c08796e",
   "metadata": {},
   "outputs": [],
   "source": [
    "# show_answer(\"Bifurcations63\")"
   ]
  },
  {
   "cell_type": "markdown",
   "id": "2bcc7f36",
   "metadata": {},
   "source": [
    "#### Exc -- Doubling time\n",
    "Re-run the animation cell to get default parameter values.\n",
    "Visually investigate the system's (i.e. the trajectories') **sensitivity to initial conditions** by moving `Time`, `N` and `ε`. What do you reckon is the \"doubling time\" of the perturbations? I.e. how long do you think it takes (on average) for two trajectories to grow twice as far apart as they started (alternatives: 0.03, 0.3, 3, 30)? What are the implications for any prediction/forecasting we might attempt?"
   ]
  },
  {
   "cell_type": "code",
   "execution_count": null,
   "id": "ab0512be",
   "metadata": {},
   "outputs": [],
   "source": [
    "# show_answer('Guesstimate 63')"
   ]
  },
  {
   "cell_type": "markdown",
   "id": "2741731e",
   "metadata": {},
   "source": [
    "### Averages\n",
    "\n",
    "The result actually depends on where in \"phase space\" the particles started. For example, predictability in the Lorenz system is much shorter when the state is near the center, where the trajectories diverge into the two wings of the butterfly. So to get a universal answer one must average these experiments for many different initial conditions.\n",
    "Alternatively, since the above system is [ergodic](https://en.wikipedia.org/wiki/Ergodic_theory#Ergodic_theorems), we could also average a single experiment over a very, very long time, obtaining the same statistics (assuming they have converged). Though not strictly implied, ergodicity is closely related to chaos. It means that\n",
    "\n",
    "- A trajectory/orbit never quite repeats (the orbit is aperiodic).\n",
    "- The tracks of the orbits are sufficiently \"dense\" that they define a manifold\n",
    "  (something that looks like a surface, such as the butterfly wings above,\n",
    "  and for which we can speak of properties like derivatives and fractal dimension).\n",
    "- Every part (of positive measure) of the manifold can be reached from any other.\n",
    "- There is a probability density for the manifold,\n",
    "  quantifying the relative amount of time (of an infinite amount)\n",
    "  that the system spends in that neighbourhood.\n",
    "\n",
    "Set `N` and `Time` in the above interactive animation to their upper bounds (might take long to run!).\n",
    "Execute the code cell below.\n",
    "Do you think the samples behind the histograms are drawn from the same distribution?\n",
    "In other words, is the Lorenz system ergodic?"
   ]
  },
  {
   "cell_type": "code",
   "execution_count": null,
   "id": "9b6f6196",
   "metadata": {},
   "outputs": [],
   "source": [
    "fig, axs = plt.subplots(ncols=3, sharey=True, figsize=(9, 3))\n",
    "def hist(ax, sample, lbl):\n",
    "    ax.hist(sample, density=1, bins=20, label=lbl, alpha=.5)\n",
    "\n",
    "trajectories63 = store[0]\n",
    "for i, (ax, lbl) in enumerate(zip(axs, \"xyz\")):\n",
    "    hist(ax, trajectories63[:, -1, i],            \"at final time\")\n",
    "    hist(ax, trajectories63[-1, ::int(.2/dt), i], \"of final member\")\n",
    "    ax.set_title(f\"Component {lbl}\")\n",
    "plt.legend();"
   ]
  },
  {
   "cell_type": "markdown",
   "id": "84e9d5c2",
   "metadata": {},
   "source": [
    "The long-run distribution of a system may be called its **climatology**.\n",
    "A somewhat rudimentary weather forecasting initialisation (i.e. DA) technique,\n",
    "called **optimal interpolation**,\n",
    "consists in using the climatology as the prior (as opposed to yesterday's forecast)\n",
    "when applying Bayes' rule (in its [Gaussian guise](http://localhost:8888/notebooks/notebooks/T3%20-%20Bayesian%20inference.ipynb#Gaussian-Gaussian-Bayes'-rule-(1D)) to the observations of the day."
   ]
  },
  {
   "cell_type": "markdown",
   "id": "e1c86112",
   "metadata": {},
   "source": [
    "## The Lorenz-96 model\n",
    "\n",
    "Lorenz-96 is a \"spatially 1D\" dynamical system of an astoundingly simple design that resemble atmospheric convection,\n",
    "including nonlinear terms and chaoticity.\n",
    "Each state variable $\\x_i$ can be considered some atmospheric quantity at grid point at a fixed latitude of Earth.  The system\n",
    "is given by the coupled set of ODEs,\n",
    "$$\n",
    "\\frac{d \\x_i}{dt} = (\\x_{i+1} − \\x_{i-2}) \\x_{i-1} − \\x_i + F\n",
    "\\,,\n",
    "\\quad \\quad i \\in \\{1,\\ldots,\\xDim\\}\n",
    "\\,,\n",
    "$$\n",
    "where the subscript indices apply periodically.\n",
    "\n",
    "This model is not derived from physics but has similar characteristics, such as\n",
    "<ul>\n",
    "    <li> there is external forcing, determined by a parameter $F$;</li>\n",
    "    <li> there is internal dissipation, emulated by the linear term;</li>\n",
    "    <li> there is energy-conserving advection, emulated by quadratic terms.</li>\n",
    "</ul>\n",
    "\n",
    "[Further description in the very readable original article](http://eaps4.mit.edu/research/Lorenz/Predicability_a_Problem_2006.pdf)."
   ]
  },
  {
   "cell_type": "markdown",
   "id": "13003321",
   "metadata": {},
   "source": [
    "**Exc (optional) -- Conservation of energy:** Show that the \"total energy\" $\\sum_{i=1}^{\\xDim} \\x_i^2$ is preserved by the quadratic terms in the ODE.  \n",
    "*Hint: consider its time derivative.*"
   ]
  },
  {
   "cell_type": "code",
   "execution_count": null,
   "id": "f3a4e9fe",
   "metadata": {},
   "outputs": [],
   "source": [
    "# show_answer(\"Lorenz energy\")"
   ]
  },
  {
   "cell_type": "markdown",
   "id": "41a104f0",
   "metadata": {},
   "source": [
    "The model is animated below."
   ]
  },
  {
   "cell_type": "code",
   "execution_count": null,
   "id": "2121eb11",
   "metadata": {},
   "outputs": [],
   "source": [
    "def s(x, n):\n",
    "    return np.roll(x, -n)\n",
    "\n",
    "def dxdt96(x, t, Force):\n",
    "    return (s(x, 1) - s(x, -2)) * s(x, -1) - x + Force\n",
    "\n",
    "bounds = -10, 20"
   ]
  },
  {
   "cell_type": "code",
   "execution_count": null,
   "id": "dbafb837",
   "metadata": {},
   "outputs": [],
   "source": [
    "store = [\"placeholder\"]\n",
    "@interact(        xDim=(4,60,1), N=(1,30), Force=(0,15.), ε=(0.01,3,0.1), Time=(0.05,90,0.04))\n",
    "def plot_lorenz96(xDim=40,       N=2,      Force=8,       ε=0.01,         Time=3):\n",
    "    rnd.seed(23)\n",
    "    initial_states = np.zeros((N, xDim))\n",
    "    initial_states[:, 0] = ε*(10 + rnd.randn(N))\n",
    "    trajectories, times = integrate(dxdt96, initial_states, Time, Force=Force)\n",
    "    store[0] = trajectories\n",
    "\n",
    "    plt.figure(figsize=(7, 4))\n",
    "    plt.plot(np.arange(xDim), trajectories[:, -1].T)\n",
    "    plt.ylim(*bounds)\n",
    "    plt.show()"
   ]
  },
  {
   "cell_type": "markdown",
   "id": "bdde6256",
   "metadata": {},
   "source": [
    "#### Exc -- Bifurcation hunting 96\n",
    "Investigate by moving the sliders (but keep `xDim=40`): Under which settings of the force `F`\n",
    "\n",
    "- Do the solutions tend to the steady state $\\x_i = F$ for all $i$ ?\n",
    "- Are the solutions periodic?\n",
    "- Is the system chaotic (i.e., the solutions are extremely sensitive to initial conditions,\n",
    "  meaning that the predictability horizon is finite) ?\n",
    "\n",
    "*PS: another way to visualise spatially 1D systems (or cross-sections) over time is the [Hovmöller diagram](https://en.wikipedia.org/wiki/Hovm%C3%B6ller_diagram), here represented for 1 realisation of the simulations.*"
   ]
  },
  {
   "cell_type": "code",
   "execution_count": null,
   "id": "89a4a65e",
   "metadata": {},
   "outputs": [],
   "source": [
    "plt.contourf(store[0][0], cmap=\"viridis\", vmin=bounds[0], vmax=bounds[1])\n",
    "plt.colorbar();"
   ]
  },
  {
   "cell_type": "code",
   "execution_count": null,
   "id": "ab036074",
   "metadata": {},
   "outputs": [],
   "source": [
    "# show_answer('Bifurcations96', 'a')"
   ]
  },
  {
   "cell_type": "markdown",
   "id": "7aafacdc",
   "metadata": {},
   "source": [
    "#### Exc -- Doubling time\n",
    "Maximise `N` (for a large sample), minimise `ε` (to approach linear conditions) and set `Time=1` (a reasonable first guess). Compute a rough estimate of the doubling time in the cell below (`ens` holds the `N` final states).\n",
    "*Hint: The theory for these questions will be described in further detail in the following section.*"
   ]
  },
  {
   "cell_type": "code",
   "execution_count": null,
   "id": "e986cfc4",
   "metadata": {},
   "outputs": [],
   "source": [
    "trajectories96 = store[0]\n",
    "ens = trajectories96[:, -1]"
   ]
  },
  {
   "cell_type": "code",
   "execution_count": null,
   "id": "382a4849",
   "metadata": {},
   "outputs": [],
   "source": [
    "# show_answer(\"doubling time\")"
   ]
  },
  {
   "cell_type": "markdown",
   "id": "0739b9e5",
   "metadata": {},
   "source": [
    "## The double pendulum"
   ]
  },
  {
   "cell_type": "markdown",
   "id": "689a968b",
   "metadata": {},
   "source": [
    "The [double pendulum](https://en.wikipedia.org/wiki/Double_pendulum) is another classic example of a chaotic system.\n",
    "It is a little longer to implement, so we'll just load it from [DAPPER](https://github.com/nansencenter/DAPPER/blob/master/dapper/mods/DoublePendulum/__init__.py).\n",
    "Unlike the Lorenz systems, the divergence of its \"$f$\" flow field is 0,\n",
    "so it is conservative, and all of the trajectories preserve their initial energy\n",
    "(except for what friction our numerical integration causes).\n",
    "Therefore it does not strictly speaking posess an attractor\n",
    "nor is it ergodic (but some things might be said upon restriction to the set of initial conditions with equal energy levels?)"
   ]
  },
  {
   "cell_type": "code",
   "execution_count": null,
   "id": "dc42a742",
   "metadata": {},
   "outputs": [],
   "source": [
    "from numpy import cos, sin, pi\n",
    "import dapper.mods as modelling\n",
    "from dapper.mods.DoublePendulum import L1, L2, step, x0\n",
    "def x012(x): return (0 , L1*sin(x[0]) , L1*sin(x[0]) + L2*sin(x[2]))\n",
    "def y012(x): return (0, -L1*cos(x[0]), -L1*cos(x[0]) - L2*cos(x[2]))\n",
    "\n",
    "x0 = [.9*pi, 0, 0, 0] # Angular pos1, vel1, pos2, vel2\n",
    "initial_states = x0 + 0.01*np.random.randn(20, 4)\n",
    "simulator = modelling.with_recursion(step)\n",
    "nTime = 2000\n",
    "EE = simulator(initial_states, k=nTime, t0=0, dt=dt)\n",
    "\n",
    "@interact(k=(0, nTime, 10), N=(1, len(initial_states)))\n",
    "def plot_pendulum2(k=0, N=2):\n",
    "    fig, ax = plt.subplots()\n",
    "    ax.set(xlim=(-2, 2), ylim=(-2, 2), aspect=\"equal\")\n",
    "    for x in EE[k, :N]:\n",
    "        ax.plot(x012(x), y012(x), '-o')\n",
    "    plt.show()"
   ]
  },
  {
   "cell_type": "markdown",
   "id": "79f416a1",
   "metadata": {},
   "source": [
    "## Error/perturbation dynamics"
   ]
  },
  {
   "cell_type": "markdown",
   "id": "53889074",
   "metadata": {},
   "source": [
    "**Exc (optional) -- Perturbation ODE:** Suppose $x(t)$ and $z(t)$ are \"twins\": they evolve according to the same law $f$:\n",
    "$$\n",
    "\\begin{align}\n",
    "\\frac{dx}{dt} &= f(x) \\\\\n",
    "\\frac{dz}{dt} &= f(z) \\,.\n",
    "\\end{align}\n",
    "$$\n",
    "\n",
    "Define the \"error\": $\\varepsilon(t) = x(t) - z(t)$.  \n",
    "Suppose $z(0)$ is close to $x(0)$.  \n",
    "Let $F = \\frac{df}{dx}(x(t))$.  \n",
    "\n",
    "* (a) Show that the error evolves according to the ordinary differential equation (ODE)\n",
    "$$\\frac{d \\varepsilon}{dt} \\approx F \\varepsilon \\,.$$"
   ]
  },
  {
   "cell_type": "code",
   "execution_count": null,
   "id": "e0ea059f",
   "metadata": {},
   "outputs": [],
   "source": [
    "# show_answer(\"error evolution\")"
   ]
  },
  {
   "cell_type": "markdown",
   "id": "4f3091aa",
   "metadata": {},
   "source": [
    "* (b) Suppose $F$ is constant. Show that the error grows exponentially: $\\varepsilon(t) = \\varepsilon(0) e^{F t} $."
   ]
  },
  {
   "cell_type": "code",
   "execution_count": null,
   "id": "ee6f0a14",
   "metadata": {},
   "outputs": [],
   "source": [
    "# show_answer(\"anti-deriv\")"
   ]
  },
  {
   "cell_type": "markdown",
   "id": "1d36c18a",
   "metadata": {},
   "source": [
    "* (c)\n",
    "   * (1) Suppose $F<0$.  \n",
    "     What happens to the error?  \n",
    "     What does this mean for predictability?\n",
    "   * (2) Now suppose $F>0$.  \n",
    "     Given that all observations are uncertain (i.e. $R_t>0$, if only ever so slightly),  \n",
    "     can we ever hope to estimate $x(t)$ with 0 uncertainty?"
   ]
  },
  {
   "cell_type": "code",
   "execution_count": null,
   "id": "0674f639",
   "metadata": {},
   "outputs": [],
   "source": [
    "# show_answer(\"predictability cases\")"
   ]
  },
  {
   "cell_type": "markdown",
   "id": "f2b6e245",
   "metadata": {},
   "source": [
    "- (d) What is the doubling time of the error?"
   ]
  },
  {
   "cell_type": "code",
   "execution_count": null,
   "id": "8d5abb4b",
   "metadata": {},
   "outputs": [],
   "source": [
    "# show_answer(\"doubling time, Lyapunov\")"
   ]
  },
  {
   "cell_type": "markdown",
   "id": "9ee3bfdf",
   "metadata": {},
   "source": [
    "* (e) Consider the ODE derived above.  \n",
    "How might we change it in order to model (i.e. emulate) a saturation of the error at some level?  \n",
    "Can you solve this equation?"
   ]
  },
  {
   "cell_type": "code",
   "execution_count": null,
   "id": "912a0c3c",
   "metadata": {},
   "outputs": [],
   "source": [
    "# show_answer(\"saturation term\")"
   ]
  },
  {
   "cell_type": "markdown",
   "id": "31cb283b",
   "metadata": {},
   "source": [
    "* (f) Now suppose $z(t)$ evolves according to $\\frac{dz}{dt} = g(z)$, with $g \\neq f$.  \n",
    "What is now the differential equation governing the evolution of the error, $\\varepsilon$?"
   ]
  },
  {
   "cell_type": "code",
   "execution_count": null,
   "id": "18201cf4",
   "metadata": {},
   "outputs": [],
   "source": [
    "# show_answer(\"linear growth\")"
   ]
  },
  {
   "cell_type": "markdown",
   "id": "a6a030e1",
   "metadata": {},
   "source": [
    "## In summary:\n",
    "Prediction (forecasting) with these systems is challenging because they are chaotic: small errors grow exponentially.\n",
    "Therefore there is a limit to how far into the future we can make predictions (skillfully).\n",
    "Therefore it is crucial to minimize the initial error as much as possible. This is a task for DA.\n",
    "\n",
    "Also see this [book on chaos and predictability](https://kuiper2000.github.io/chaos_and_predictability/intro.html).\n",
    "\n",
    "### Next: [T8 - Monte-Carlo & ensembles](T8%20-%20Monte-Carlo%20%26%20ensembles.ipynb)"
   ]
  }
 ],
 "metadata": {
  "anaconda-cloud": {},
  "celltoolbar": "Raw Cell Format",
  "jupytext": {
   "formats": "ipynb,scripts//py"
  },
  "kernelspec": {
   "display_name": "Python 3 (ipykernel)",
   "language": "python",
   "name": "python3"
  },
  "language_info": {
   "codemirror_mode": {
    "name": "ipython",
    "version": 3
   },
   "file_extension": ".py",
   "mimetype": "text/x-python",
   "name": "python",
   "nbconvert_exporter": "python",
   "pygments_lexer": "ipython3",
   "version": "3.9.16"
  }
 },
 "nbformat": 4,
 "nbformat_minor": 5
}
