{
 "cells": [
  {
   "cell_type": "markdown",
   "metadata": {},
   "source": [
    "# T7 - Chaos & Lorenz\n",
    "***Chaos***\n",
    "is also known as the butterfly effect: \"a butterfly that flaps its wings in Brazil can 'cause' a hurricane in Texas\".\n",
    "As opposed to the opinions of Descartes/Newton/Laplace, chaos effectively means that even in a deterministic (non-stochastic) universe, we can only predict \"so far\" into the future. This will be illustrated below using two toy-model dynamical systems made by ***Edward Lorenz***.\n",
    "$\n",
    "% Loading TeX (MathJax)... Please wait\n",
    "%\n",
    "\\newcommand{\\Reals}{\\mathbb{R}}\n",
    "\\newcommand{\\Expect}[0]{\\mathbb{E}}\n",
    "\\newcommand{\\NormDist}{\\mathcal{N}}\n",
    "%\n",
    "\\newcommand{\\DynMod}[0]{\\mathscr{M}}\n",
    "\\newcommand{\\ObsMod}[0]{\\mathscr{H}}\n",
    "%\n",
    "\\newcommand{\\mat}[1]{{\\mathbf{{#1}}}}\n",
    "%\\newcommand{\\mat}[1]{{\\pmb{\\mathsf{#1}}}}\n",
    "\\newcommand{\\bvec}[1]{{\\mathbf{#1}}}\n",
    "%\n",
    "\\newcommand{\\trsign}{{\\mathsf{T}}}\n",
    "\\newcommand{\\tr}{^{\\trsign}}\n",
    "\\newcommand{\\ceq}[0]{\\mathrel{≔}}\n",
    "\\newcommand{\\xDim}[0]{D}\n",
    "\\newcommand{\\supa}[0]{^\\text{a}}\n",
    "\\newcommand{\\supf}[0]{^\\text{f}}\n",
    "%\n",
    "\\newcommand{\\I}[0]{\\mat{I}}\n",
    "\\newcommand{\\K}[0]{\\mat{K}}\n",
    "\\newcommand{\\bP}[0]{\\mat{P}}\n",
    "\\newcommand{\\bH}[0]{\\mat{H}}\n",
    "\\newcommand{\\bF}[0]{\\mat{F}}\n",
    "\\newcommand{\\R}[0]{\\mat{R}}\n",
    "\\newcommand{\\Q}[0]{\\mat{Q}}\n",
    "\\newcommand{\\B}[0]{\\mat{B}}\n",
    "\\newcommand{\\C}[0]{\\mat{C}}\n",
    "\\newcommand{\\Ri}[0]{\\R^{-1}}\n",
    "\\newcommand{\\Bi}[0]{\\B^{-1}}\n",
    "\\newcommand{\\X}[0]{\\mat{X}}\n",
    "\\newcommand{\\A}[0]{\\mat{A}}\n",
    "\\newcommand{\\Y}[0]{\\mat{Y}}\n",
    "\\newcommand{\\E}[0]{\\mat{E}}\n",
    "\\newcommand{\\U}[0]{\\mat{U}}\n",
    "\\newcommand{\\V}[0]{\\mat{V}}\n",
    "%\n",
    "\\newcommand{\\x}[0]{\\bvec{x}}\n",
    "\\newcommand{\\y}[0]{\\bvec{y}}\n",
    "\\newcommand{\\z}[0]{\\bvec{z}}\n",
    "\\newcommand{\\q}[0]{\\bvec{q}}\n",
    "\\newcommand{\\br}[0]{\\bvec{r}}\n",
    "\\newcommand{\\bb}[0]{\\bvec{b}}\n",
    "%\n",
    "\\newcommand{\\bx}[0]{\\bvec{\\bar{x}}}\n",
    "\\newcommand{\\by}[0]{\\bvec{\\bar{y}}}\n",
    "\\newcommand{\\barB}[0]{\\mat{\\bar{B}}}\n",
    "\\newcommand{\\barP}[0]{\\mat{\\bar{P}}}\n",
    "\\newcommand{\\barC}[0]{\\mat{\\bar{C}}}\n",
    "\\newcommand{\\barK}[0]{\\mat{\\bar{K}}}\n",
    "%\n",
    "\\newcommand{\\D}[0]{\\mat{D}}\n",
    "\\newcommand{\\Dobs}[0]{\\mat{D}_{\\text{obs}}}\n",
    "\\newcommand{\\Dmod}[0]{\\mat{D}_{\\text{obs}}}\n",
    "%\n",
    "\\newcommand{\\ones}[0]{\\bvec{1}}\n",
    "\\newcommand{\\AN}[0]{\\big( \\I_N - \\ones \\ones\\tr / N \\big)}\n",
    "%\n",
    "% END OF MACRO DEF\n",
    "$"
   ]
  },
  {
   "cell_type": "code",
   "execution_count": null,
   "metadata": {},
   "outputs": [],
   "source": [
    "import resources.workspace as ws\n",
    "%matplotlib inline\n",
    "import numpy as np\n",
    "import numpy.random as rnd\n",
    "import matplotlib.pyplot as plt\n",
    "plt.ion();"
   ]
  },
  {
   "cell_type": "markdown",
   "metadata": {},
   "source": [
    "***Dynamical systems*** are systems (sets of equations) whose variables evolve in time (the equations contains time derivatives). As a branch of mathematics, its theory is mainly concerned with understanding the behaviour of solutions (trajectories) of the systems.\n",
    "\n",
    "Below is a function to numerically **integrate** a set of coupled ODEs.\n",
    "It relies on `scipy`, but adds some conveniences:\n",
    "- It loops over a set of initial conditions `initial_x0s`,\n",
    "  computing a solution (\"phase space trajectory\") for each one.  \n",
    "  *PS: loops in Python are generally slow. It is often better to do [something else](https://nansencenter.github.io/DAPPER/dapper/mods.html).*\n",
    "- Taking advantage of Python's `**kwargs` (key-word argument) feature,\n",
    "  it defines an internal `dxdt` which only has two arguments: \n",
    "  `x` for the current state, and `t` for time (which we don't actually use here)."
   ]
  },
  {
   "cell_type": "code",
   "execution_count": null,
   "metadata": {},
   "outputs": [],
   "source": [
    "from scipy.integrate import odeint\n",
    "\n",
    "def integrate(dxdt, initial_x0s, final_time, **params):\n",
    "    nTime = int(100*final_time) + 1                # num. of integration steps\n",
    "    time_steps = np.linspace(0, final_time, nTime) # time sequence\n",
    "    dxdt_fixed = lambda x, t: dxdt(x, t, **params) # Fix params\n",
    "    integrated = []\n",
    "    for x0 in initial_x0s:\n",
    "        trajectory = odeint(dxdt_fixed, x0, time_steps)\n",
    "        integrated.append(trajectory)\n",
    "    return np.array(integrated)"
   ]
  },
  {
   "cell_type": "markdown",
   "metadata": {},
   "source": [
    "## The Lorenz (1963) attractor\n",
    "\n",
    "The [Lorenz-63 dynamical system](https://en.wikipedia.org/wiki/Lorenz_system) can be derived as an extreme simplification of *Rayleigh-Bénard convection*: fluid circulation in a shallow layer of fluid uniformly heated (cooled) from below (above).\n",
    "This produces the following 3 *coupled* ordinary differential equations (ODE):\n",
    "\n",
    "$$\n",
    "\\begin{aligned}\n",
    "\\dot{x} & = \\sigma(y-x) \\\\\n",
    "\\dot{y} & = \\rho x - y - xz \\\\\n",
    "\\dot{z} & = -\\beta z + xy\n",
    "\\end{aligned}\n",
    "$$\n",
    "\n",
    "where the \"dot\" represents the time derivative, $\\frac{d}{dt}$. The state vector is $\\x = (x,y,z)$, and the parameters are typically set to"
   ]
  },
  {
   "cell_type": "code",
   "execution_count": null,
   "metadata": {},
   "outputs": [],
   "source": [
    "SIGMA = 10.0\n",
    "BETA  = 8/3\n",
    "RHO   = 28.0"
   ]
  },
  {
   "cell_type": "markdown",
   "metadata": {},
   "source": [
    "The ODEs can be coded as follows"
   ]
  },
  {
   "cell_type": "code",
   "execution_count": null,
   "metadata": {},
   "outputs": [],
   "source": [
    "def dxdt63(xyz, t0, sigma, beta, rho):\n",
    "    \"\"\"Compute the time-derivative of the Lorenz-63 system.\"\"\"\n",
    "    x, y, z = xyz\n",
    "    return [\n",
    "        sigma * (y - x),\n",
    "        x * (rho - z) - y,\n",
    "        x * y - beta * z\n",
    "    ]"
   ]
  },
  {
   "cell_type": "markdown",
   "metadata": {},
   "source": [
    "Yada yada"
   ]
  },
  {
   "cell_type": "code",
   "execution_count": null,
   "metadata": {},
   "outputs": [],
   "source": [
    "output_63 = [None]\n",
    "@ws.interact(     sigma=(0.,50), beta=(0.,5), rho=(0.,50), N=(0,50), eps=(0.01,1), K=(0.,40))\n",
    "def plot_lorenz63(sigma=SIGMA,   beta=BETA,   rho=RHO    , N=2,      eps=0.01,     K=1.0):\n",
    "    rnd.seed(23)\n",
    "    initial_x0s = [-6.1, 1.2, 32.5] + eps*rnd.randn(N, 3)\n",
    "    trajectories = integrate(dxdt63, initial_x0s, K, sigma=sigma, beta=beta, rho=rho)\n",
    "\n",
    "    ax = plt.figure().add_subplot(111, projection='3d')\n",
    "    colors = plt.cm.jet(np.linspace(0, 1, N))\n",
    "    for xx, c in zip(trajectories, colors):\n",
    "        endpoint = xx[-1]\n",
    "        ax.plot(*(xx.T), color=c)\n",
    "        ax.scatter3D(*endpoint, s=40, color=c)\n",
    "    ax.axis('off')\n",
    "    plt.show()\n",
    "    output_63[0] = trajectories"
   ]
  },
  {
   "cell_type": "markdown",
   "metadata": {},
   "source": [
    "**Exc 2:**\n",
    "* Move `T` (use your arrow keys). What does it control?  \n",
    "* Set `T` to something small; move the sliders for `N` and `eps`. What do they control?\n",
    "* Visually investigate the system's (i.e. the trajectories') sensitivity to initial conditions by moving `T`, `N` and `eps`. How long do you think it takes (on average) for two trajectories (or the estimation error) to grow twice as far apart as they started (alternatives: 0.03, 0.3, 3, 30)?"
   ]
  },
  {
   "cell_type": "markdown",
   "metadata": {},
   "source": [
    "### Averages"
   ]
  },
  {
   "cell_type": "markdown",
   "metadata": {},
   "source": [
    "Slide `N` and `T` to their upper bounds. Execute the code cell below."
   ]
  },
  {
   "cell_type": "code",
   "execution_count": null,
   "metadata": {},
   "outputs": [],
   "source": [
    "# Compute the average location of the $i$-th component of the state in TWO ways.\n",
    "\n",
    "i  = 0 # state component index (must be 0,1,2)\n",
    "nB = 20\n",
    "xx = output_63[0][:, :, i]\n",
    "\n",
    "plt.hist(xx[:, -1]  , density=1, bins=nB, label=\"ensemble dist.\"        ,alpha=1.0) # -1: last time\n",
    "plt.hist(xx[-1, :]  , density=1, bins=nB, label=\"temporal dist.\"        ,alpha=0.5) # -1: last ensemble member\n",
    "#plt.hist(xx.ravel(), density=1, bins=nB, label=\"total    distribution\", alpha=0.5)\n",
    "plt.legend();"
   ]
  },
  {
   "cell_type": "markdown",
   "metadata": {},
   "source": [
    "**Exc 6 (optional):** Answer the questions below.\n",
    " * (a) Do you think the samples behind the histograms are drawn from the same distribution?\n",
    " * (b) The answer to the above question means that this dynamical system is [ergodic](https://en.wikipedia.org/wiki/Ergodic_theory#Ergodic_theorems).\n",
    " Now, suppose we want to investigate which (DA) method is better at estimating the true state (trajectory) for this system, on average. Should we run several short experiments or one long one?"
   ]
  },
  {
   "cell_type": "code",
   "execution_count": null,
   "metadata": {},
   "outputs": [],
   "source": [
    "# ws.show_answer(\"Ergodicity a\")\n",
    "# ws.show_answer(\"Ergodicity b\")"
   ]
  },
  {
   "cell_type": "markdown",
   "metadata": {},
   "source": [
    "---\n",
    "\n",
    "## The *Lorenz-96* model\n",
    "\n",
    "The Lorenz-96 system\n",
    "is a \"1D\" model, designed to resemble atmospheric convection.  Each state variable $\\x_i$ can be considered some atmospheric quantity at grid point at a fixed latitude of the earth.  The system\n",
    "is given by the coupled set of ODEs,\n",
    "$$\n",
    "\\frac{d \\x_i}{dt} = (\\x_{i+1} − \\x_{i-2}) \\x_{i-1} − \\x_i + F\n",
    "\\, ,\n",
    "\\quad \\quad i \\in \\{1,\\ldots,\\xDim\\}\n",
    "\\, ,\n",
    "$$\n",
    "where the subscript indices apply periodically.\n",
    "\n",
    "This model is not derived from physics but has similar characteristics, such as\n",
    "<ul>\n",
    "    <li> there is external forcing, determined by a parameter $F$;</li>\n",
    "    <li> there is internal dissipation, emulated by the linear term;</li>\n",
    "    <li> there is energy-conserving advection, emulated by quadratic terms.</li>\n",
    "</ul>\n",
    "\n",
    "[Further description in the very readable original article](http://eaps4.mit.edu/research/Lorenz/Predicability_a_Problem_2006.pdf)."
   ]
  },
  {
   "cell_type": "markdown",
   "metadata": {},
   "source": [
    "**Exc 10 (optional):** Show that the \"total energy\" $\\sum_{i=1}^{\\xDim} \\x_i^2$ is preserved by the quadratic terms in the ODE.  \n"
   ]
  },
  {
   "cell_type": "code",
   "execution_count": null,
   "metadata": {},
   "outputs": [],
   "source": [
    "# ws.show_answer(\"Hint: Lorenz energy\")\n",
    "# ws.show_answer(\"Lorenz energy\")"
   ]
  },
  {
   "cell_type": "markdown",
   "metadata": {},
   "source": [
    "The model is animated below."
   ]
  },
  {
   "cell_type": "code",
   "execution_count": null,
   "metadata": {},
   "outputs": [],
   "source": [
    "def s(x, n):\n",
    "    \"\"\"For all i, any n: `s(x, n) = x[i+n]`, circularly.\"\"\"\n",
    "    return np.roll(x, -n)\n",
    "\n",
    "def dxdt96(x, t, Force):\n",
    "    return (s(x, 1) - s(x, -2)) * s(x, -1) - x + Force"
   ]
  },
  {
   "cell_type": "code",
   "execution_count": null,
   "metadata": {},
   "outputs": [],
   "source": [
    "output_96 = [None]\n",
    "@ws.interact(     xDim=(5,60,1), N=(1, 30), Force=(0,40,1), eps=(0.01,3,0.1), K=(0.05,10,0.02))\n",
    "def plot_lorenz96(xDim=40,       N=1,       Force=8.0,      eps=0.01,         K=0):\n",
    "    rnd.seed(23)\n",
    "    initial_x0s = np.zeros((N, xDim))\n",
    "    initial_x0s[:, 0] = eps*(10 + rnd.randn(N))\n",
    "    trajectories = integrate(dxdt96, initial_x0s, K, Force=Force)\n",
    "    \n",
    "    plt.figure(figsize=(7, 4))\n",
    "    plt.plot(np.arange(xDim), trajectories[:, -1].T)\n",
    "    plt.ylim(-10, 20)\n",
    "    plt.show()\n",
    "    output_96[0] = trajectories"
   ]
  },
  {
   "cell_type": "markdown",
   "metadata": {},
   "source": [
    "**Exc 12:** Investigate by moving the sliders: Under which settings of the force `F` is the system chaotic (is the predictability horizon finite)?"
   ]
  },
  {
   "cell_type": "markdown",
   "metadata": {},
   "source": [
    "---\n",
    "## Error/perturbation dynamics"
   ]
  },
  {
   "cell_type": "markdown",
   "metadata": {},
   "source": [
    "**Exc 14 (optional):** Suppose $x(t)$ and $z(t)$ are \"twins\": they evolve according to the same law $f$:\n",
    "$$\n",
    "\\begin{align}\n",
    "\\frac{dx}{dt} &= f(x) \\\\\n",
    "\\frac{dz}{dt} &= f(z) \\, .\n",
    "\\end{align}\n",
    "$$\n",
    "\n",
    "Define the \"error\": $\\varepsilon(t) = x(t) - z(t)$.  \n",
    "Suppose $z(0)$ is close to $x(0)$.  \n",
    "Let $F = \\frac{df}{dx}(x(t))$.  \n",
    "\n",
    "* a) Show that the error evolves according to the ordinary differential equation (ODE)\n",
    "$$\\frac{d \\varepsilon}{dt} \\approx F \\varepsilon \\, .$$"
   ]
  },
  {
   "cell_type": "code",
   "execution_count": null,
   "metadata": {},
   "outputs": [],
   "source": [
    "# ws.show_answer(\"error evolution\")"
   ]
  },
  {
   "cell_type": "markdown",
   "metadata": {},
   "source": [
    "* b) Suppose $F$ is constant. Show that the error grows exponentially: $\\varepsilon(t) = \\varepsilon(0) e^{F t} $."
   ]
  },
  {
   "cell_type": "code",
   "execution_count": null,
   "metadata": {},
   "outputs": [],
   "source": [
    "# ws.show_answer(\"anti-deriv\")"
   ]
  },
  {
   "cell_type": "markdown",
   "metadata": {},
   "source": [
    "* c)\n",
    " * 1) Suppose $F<0$.  \n",
    " What happens to the error?  \n",
    " What does this mean for predictability?\n",
    " * 2) Now suppose $F>0$.  \n",
    " Given that all observations are uncertain (i.e. $R_t>0$, if only ever so slightly),  \n",
    " can we ever hope to estimate $x(t)$ with 0 uncertainty?\n",
    " "
   ]
  },
  {
   "cell_type": "code",
   "execution_count": null,
   "metadata": {},
   "outputs": [],
   "source": [
    "# ws.show_answer(\"predictability cases\")"
   ]
  },
  {
   "cell_type": "markdown",
   "metadata": {},
   "source": [
    "* d) Consider the ODE derived above.  \n",
    "How might we change it in order to model (i.e. emulate) a saturation of the error at some level?  \n",
    "Can you solve this equation?"
   ]
  },
  {
   "cell_type": "code",
   "execution_count": null,
   "metadata": {},
   "outputs": [],
   "source": [
    "# ws.show_answer(\"saturation term\")"
   ]
  },
  {
   "cell_type": "markdown",
   "metadata": {},
   "source": [
    "* e) Now suppose $z(t)$ evolves according to $\\frac{dz}{dt} = g(z)$, with $g \\neq f$.  \n",
    "What is now the differential equation governing the evolution of the error, $\\varepsilon$?"
   ]
  },
  {
   "cell_type": "code",
   "execution_count": null,
   "metadata": {},
   "outputs": [],
   "source": [
    "# ws.show_answer(\"liner growth\")"
   ]
  },
  {
   "cell_type": "markdown",
   "metadata": {},
   "source": [
    "**Exc 16 (optional):** Recall the Lorenz-63 system. What is its doubling time (i.e. estimate how long does it take for two trajectories to grow twice as far apart as they were to start with) ?\n",
    "*Hint: Set `N=50, eps=0.01, T=1,` and compute the spread of the particles now as compared to how they started*"
   ]
  },
  {
   "cell_type": "code",
   "execution_count": null,
   "metadata": {},
   "outputs": [],
   "source": [
    "xx = output_63[0][:, -1] # Ensemble of particles at the end of integration\n",
    "### compute your answer here ###"
   ]
  },
  {
   "cell_type": "code",
   "execution_count": null,
   "metadata": {},
   "outputs": [],
   "source": [
    "# ws.show_answer(\"doubling time\")"
   ]
  },
  {
   "cell_type": "markdown",
   "metadata": {},
   "source": [
    "The answer actually depends on where in \"phase space\" the particles started.\n",
    "To get a universal answer one must average these experiments for many different initial conditions."
   ]
  },
  {
   "cell_type": "markdown",
   "metadata": {},
   "source": [
    "## In summary:\n",
    "Prediction (forecasting) with these systems is challenging because they are chaotic: small errors grow exponentially.\n",
    "\n",
    "In other words, chaos means that there is a limit to how far into the future we can make predictions (skillfully).\n",
    "\n",
    "It is therefore crucial to minimize the initial error as much as possible. This is a task for DA."
   ]
  },
  {
   "cell_type": "markdown",
   "metadata": {},
   "source": [
    "### Next: [T8 - Monte-Carlo & ensembles](T8%20-%20Monte-Carlo%20%26%20ensembles.ipynb)"
   ]
  }
 ],
 "metadata": {
  "anaconda-cloud": {},
  "celltoolbar": "Raw Cell Format",
  "jupytext": {
   "formats": "ipynb,py"
  },
  "kernelspec": {
   "display_name": "Python 3 (ipykernel)",
   "language": "python",
   "name": "python3"
  },
  "language_info": {
   "codemirror_mode": {
    "name": "ipython",
    "version": 3
   },
   "file_extension": ".py",
   "mimetype": "text/x-python",
   "name": "python",
   "nbconvert_exporter": "python",
   "pygments_lexer": "ipython3",
   "version": "3.9.16"
  }
 },
 "nbformat": 4,
 "nbformat_minor": 4
}
